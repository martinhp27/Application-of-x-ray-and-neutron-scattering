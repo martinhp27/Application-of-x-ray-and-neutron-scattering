{
 "cells": [
  {
   "cell_type": "code",
   "execution_count": 2,
   "metadata": {},
   "outputs": [],
   "source": [
    "#Loading all libraries and methods used here\n",
    "import numpy as np\n",
    "import os\n",
    "import matplotlib.pyplot as plt\n",
    "import scipy.integrate as integrate\n",
    "from scipy.optimize import curve_fit, fsolve, differential_evolution, minimize\n",
    "import scipy.special as ss\n",
    "from timeit import default_timer as timer\n",
    "\n",
    "#from __future__ import print_function\n",
    "from ipywidgets import interact, interactive, fixed, interact_manual\n",
    "import ipywidgets as widgets\n",
    "from IPython.display import Audio, display\n",
    "\n",
    "def allDone():\n",
    "    display(Audio(url='https://sound.peal.io/ps/audios/000/000/537/original/woo_vu_luvub_dub_dub.wav', autoplay=True))\n",
    "    return"
   ]
  },
  {
   "cell_type": "code",
   "execution_count": 3,
   "metadata": {},
   "outputs": [
    {
     "data": {
      "text/plain": [
       "'def aux(x, m, b):\\n    return m*x+b\\ndef f(m, b):\\n    plt.figure(2)\\n    x = np.linspace(-10, 10, num=1000)\\n    plt.plot(x, aux(x,m,b))\\n    plt.ylim(-5, 5)\\n    plt.show() \\n\\ninteract(f, m=(-2.0, 2.0), b=(-3, 3, 0.5));\\n'"
      ]
     },
     "execution_count": 3,
     "metadata": {},
     "output_type": "execute_result"
    }
   ],
   "source": [
    "'''def aux(x, m, b):\n",
    "    return m*x+b\n",
    "def f(m, b):\n",
    "    plt.figure(2)\n",
    "    x = np.linspace(-10, 10, num=1000)\n",
    "    plt.plot(x, aux(x,m,b))\n",
    "    plt.ylim(-5, 5)\n",
    "    plt.show() \n",
    "\n",
    "interact(f, m=(-2.0, 2.0), b=(-3, 3, 0.5));\n",
    "'''"
   ]
  },
  {
   "cell_type": "code",
   "execution_count": 4,
   "metadata": {
    "scrolled": true
   },
   "outputs": [
    {
     "data": {
      "image/png": "[encoded data removed]",
      "text/plain": [
       "<Figure size 432x288 with 1 Axes>"
      ]
     },
     "metadata": {
      "needs_background": "light"
     },
     "output_type": "display_data"
    }
   ],
   "source": [
    "#importing data\n",
    "\n",
    "source_directory_RDS_files = './'\n",
    "source_directory_results = './RESULTADOS/'\n",
    "file_path = './G.RDS'\n",
    "\n",
    "file_name = file_path[2:len(file_path)-4]\n",
    "\n",
    "exp_data = np.loadtxt(file_path, skiprows = 3)\n",
    "\n",
    "\n",
    "#q in angstrons-1.\n",
    "q_exp = exp_data[:,0]\n",
    "\n",
    "#intesity.\n",
    "I_exp = exp_data[:,1]\n",
    "\n",
    "#errors\n",
    "errI_exp = exp_data[:,2]\n",
    "\n",
    "#interval selection\n",
    "q_min = 0.03\n",
    "q_max = 0.3\n",
    "i = 0\n",
    "q_selected = []\n",
    "I_selected = []\n",
    "errI_selected = []\n",
    "while i<len(q_exp):\n",
    "    if (q_exp[i]>q_min and q_exp[i]<q_max):\n",
    "        q_selected.append(q_exp[i])\n",
    "        I_selected.append(I_exp[i])\n",
    "        errI_selected.append(errI_exp[i])\n",
    "    i = i + 1  \n",
    "    \n",
    "q_selected = np.asarray(q_selected)\n",
    "I_selected = np.asarray(I_selected)\n",
    "errI_selected = np.asarray(errI_selected)\n",
    "    \n",
    "plt.errorbar(q_exp,I_exp,yerr=errI_exp, fmt='ro')\n",
    "plt.errorbar(q_selected,I_selected,yerr=errI_selected, fmt='ko', label='selected')\n",
    "plt.plot(q_exp, 2.5e-4*q_exp**(-3), zorder=10, label='q^-3')\n",
    "plt.plot(q_exp, 5.0e-1*q_exp**(-1), zorder=5, label='q^-1')\n",
    "plt.plot(q_exp, 2.5e-3*q_exp**(-3.8), zorder=5, label='q^-3.8')\n",
    "plt.xscale('log')\n",
    "plt.yscale('log')\n",
    "plt.legend()\n",
    "\n",
    "#saving cutted file in results folder\n",
    "np.savetxt(source_directory_results + file_name + '.cut', np.c_[q_selected, I_selected, errI_selected])"
   ]
  },
  {
   "cell_type": "markdown",
   "metadata": {},
   "source": [
    "For hexagonal symmetries, the diffraction peaks were predicted to be at the following positions (Garcia2016):\n",
    "\n",
    "$$\\left( \\frac{q_{hkl}}{2\\pi} \\right)^2=\\frac{4}{3} \\left( \\frac{h^2+hk+k^2}{a^2} \\right)+\\frac{l^2}{c^2}$$\n",
    "\n",
    "where $h$, $k$ and $l$ are the Miller indices, and $a$ is the lattice parameter. For 2D hexagonal simetries, like SBA-15, $l=0$, then the previous equation becomes:\n",
    "\n",
    "$$q_{hk}=\\frac{4\\pi}{a}\\sqrt{\\frac{h^2+hk+k^2}{3}}$$\n"
   ]
  },
  {
   "cell_type": "code",
   "execution_count": 5,
   "metadata": {},
   "outputs": [
    {
     "data": {
      "text/plain": [
       "<matplotlib.lines.Line2D at 0x15155d8690>"
      ]
     },
     "execution_count": 5,
     "metadata": {},
     "output_type": "execute_result"
    },
    {
     "data": {
      "image/png": "[encoded data removed]",
      "text/plain": [
       "<Figure size 432x288 with 1 Axes>"
      ]
     },
     "metadata": {
      "needs_background": "light"
     },
     "output_type": "display_data"
    }
   ],
   "source": [
    "#filtering to reduce the amount of data\n",
    "plt.errorbar(q_selected,I_selected,yerr=errI_selected, fmt='bo')\n",
    "plt.yscale('log')\n",
    "\n",
    "v01 = 0.05\n",
    "plt.axvline(x=v01, color='red', linestyle='--')\n",
    "v02 = 0.07\n",
    "plt.axvline(x=v02, color='red', linestyle='--')\n",
    "v03 = 0.10\n",
    "plt.axvline(x=v03, color='red', linestyle='--')\n",
    "v04 = 0.13\n",
    "plt.axvline(x=v04, color='red', linestyle='--')\n",
    "v05 = 0.155\n",
    "plt.axvline(x=v05, color='red', linestyle='--')\n",
    "v06 = 0.19\n",
    "plt.axvline(x=v06, color='red', linestyle='--')"
   ]
  },
  {
   "cell_type": "code",
   "execution_count": 6,
   "metadata": {},
   "outputs": [
    {
     "data": {
      "text/plain": [
       "<matplotlib.legend.Legend at 0x1515821d50>"
      ]
     },
     "execution_count": 6,
     "metadata": {},
     "output_type": "execute_result"
    },
    {
     "data": {
      "image/png": "[encoded data removed]",
      "text/plain": [
       "<Figure size 432x288 with 1 Axes>"
      ]
     },
     "metadata": {
      "needs_background": "light"
     },
     "output_type": "display_data"
    }
   ],
   "source": [
    "i = 0\n",
    "q_filtered = []\n",
    "I_filtered = []\n",
    "errI_filtered = []\n",
    "while i<len(q_selected):\n",
    "    if q_selected[i]<v01:\n",
    "        if i % 2 == 0:\n",
    "            q_filtered.append(q_selected[i])\n",
    "            I_filtered.append(I_selected[i])\n",
    "            errI_filtered.append(errI_selected[i])\n",
    "    elif q_selected[i]<v02:\n",
    "        q_filtered.append(q_selected[i])\n",
    "        I_filtered.append(I_selected[i])\n",
    "        errI_filtered.append(errI_selected[i])\n",
    "    elif q_selected[i]<v03:\n",
    "        if i % 2 == 0:\n",
    "            q_filtered.append(q_selected[i])\n",
    "            I_filtered.append(I_selected[i])\n",
    "            errI_filtered.append(errI_selected[i])\n",
    "    elif q_selected[i]<v04:\n",
    "        q_filtered.append(q_selected[i])\n",
    "        I_filtered.append(I_selected[i])\n",
    "        errI_filtered.append(errI_selected[i])\n",
    "    elif q_selected[i]<v05:\n",
    "        if i % 2 == 0:\n",
    "            q_filtered.append(q_selected[i])\n",
    "            I_filtered.append(I_selected[i])\n",
    "            errI_filtered.append(errI_selected[i])\n",
    "    elif q_selected[i]<v06:\n",
    "        q_filtered.append(q_selected[i])\n",
    "        I_filtered.append(I_selected[i])\n",
    "        errI_filtered.append(errI_selected[i])\n",
    "    else:\n",
    "        if i % 2 == 0:\n",
    "            q_filtered.append(q_selected[i])\n",
    "            I_filtered.append(I_selected[i])\n",
    "            errI_filtered.append(errI_selected[i])\n",
    "    \n",
    "    i = i + 1  \n",
    "    \n",
    "q_filtered = np.asarray(q_filtered)\n",
    "I_filtered = np.asarray(I_filtered)\n",
    "errI_filtered = np.asarray(errI_filtered)\n",
    "\n",
    "\n",
    "\n",
    "#double filtering\n",
    "i = 0\n",
    "q_filtered2 = []\n",
    "I_filtered2 = []\n",
    "errI_filtered2 = []\n",
    "while i<len(q_filtered):\n",
    "    if q_filtered[i]<v01:\n",
    "        if i % 2 == 0:\n",
    "            q_filtered2.append(q_filtered[i])\n",
    "            I_filtered2.append(I_filtered[i])\n",
    "            errI_filtered2.append(errI_filtered[i])\n",
    "    elif q_filtered[i]<v02:\n",
    "        q_filtered2.append(q_filtered[i])\n",
    "        I_filtered2.append(I_filtered[i])\n",
    "        errI_filtered2.append(errI_filtered[i])\n",
    "    elif q_filtered[i]<v03:\n",
    "        if i % 2 == 0:\n",
    "            q_filtered2.append(q_filtered[i])\n",
    "            I_filtered2.append(I_filtered[i])\n",
    "            errI_filtered2.append(errI_filtered[i])\n",
    "    elif q_filtered[i]<v04:\n",
    "        q_filtered2.append(q_filtered[i])\n",
    "        I_filtered2.append(I_filtered[i])\n",
    "        errI_filtered2.append(errI_filtered[i])\n",
    "    elif q_filtered[i]<v05:\n",
    "        if i % 2 == 0:\n",
    "            q_filtered2.append(q_filtered[i])\n",
    "            I_filtered2.append(I_filtered[i])\n",
    "            errI_filtered2.append(errI_filtered[i])\n",
    "    elif q_filtered[i]<v06:\n",
    "        q_filtered2.append(q_filtered[i])\n",
    "        I_filtered2.append(I_filtered[i])\n",
    "        errI_filtered2.append(errI_filtered[i])\n",
    "    else:\n",
    "        if i % 2 == 0:\n",
    "            q_filtered2.append(q_filtered[i])\n",
    "            I_filtered2.append(I_filtered[i])\n",
    "            errI_filtered2.append(errI_filtered[i])\n",
    "    \n",
    "    i = i + 1  \n",
    "    \n",
    "q_filtered2 = np.asarray(q_filtered2)\n",
    "I_filtered2 = np.asarray(I_filtered2)\n",
    "errI_filtered2 = np.asarray(errI_filtered2)\n",
    "\n",
    "\n",
    "#triple filtering\n",
    "i = 0\n",
    "q_filtered3 = []\n",
    "I_filtered3 = []\n",
    "errI_filtered3 = []\n",
    "while i<len(q_filtered2):\n",
    "    if q_filtered2[i]<v01:\n",
    "        if i % 2 == 0:\n",
    "            q_filtered3.append(q_filtered2[i])\n",
    "            I_filtered3.append(I_filtered2[i])\n",
    "            errI_filtered3.append(errI_filtered2[i])\n",
    "    elif q_filtered2[i]<v02:\n",
    "        q_filtered3.append(q_filtered2[i])\n",
    "        I_filtered3.append(I_filtered2[i])\n",
    "        errI_filtered3.append(errI_filtered2[i])\n",
    "    elif q_filtered2[i]<v03:\n",
    "        if i % 2 == 0:\n",
    "            q_filtered3.append(q_filtered2[i])\n",
    "            I_filtered3.append(I_filtered2[i])\n",
    "            errI_filtered3.append(errI_filtered2[i])\n",
    "    elif q_filtered2[i]<v04:\n",
    "        q_filtered3.append(q_filtered2[i])\n",
    "        I_filtered3.append(I_filtered2[i])\n",
    "        errI_filtered3.append(errI_filtered2[i])\n",
    "    elif q_filtered2[i]<v05:\n",
    "        if i % 2 == 0:\n",
    "            q_filtered3.append(q_filtered2[i])\n",
    "            I_filtered3.append(I_filtered2[i])\n",
    "            errI_filtered3.append(errI_filtered2[i])\n",
    "    elif q_filtered2[i]<v06:\n",
    "        q_filtered3.append(q_filtered2[i])\n",
    "        I_filtered3.append(I_filtered2[i])\n",
    "        errI_filtered3.append(errI_filtered2[i])\n",
    "    else:\n",
    "        if i % 2 == 0:\n",
    "            q_filtered3.append(q_filtered2[i])\n",
    "            I_filtered3.append(I_filtered2[i])\n",
    "            errI_filtered3.append(errI_filtered2[i])\n",
    "    \n",
    "    i = i + 1  \n",
    "    \n",
    "q_filtered3 = np.asarray(q_filtered3)\n",
    "I_filtered3 = np.asarray(I_filtered3)\n",
    "errI_filtered3 = np.asarray(errI_filtered3)\n",
    "\n",
    "\n",
    "plt.errorbar(q_selected,I_selected,yerr=errI_selected, fmt='ko', label='selected')\n",
    "plt.errorbar(q_filtered3,I_filtered3,yerr=errI_filtered3, fmt='ro', label='filtered2')\n",
    "#plt.xscale('log')\n",
    "plt.yscale('log')\n",
    "plt.legend()"
   ]
  },
  {
   "cell_type": "code",
   "execution_count": 7,
   "metadata": {},
   "outputs": [
    {
     "data": {
      "text/plain": [
       "177"
      ]
     },
     "execution_count": 7,
     "metadata": {},
     "output_type": "execute_result"
    }
   ],
   "source": [
    "len(q_filtered2)"
   ]
  },
  {
   "cell_type": "code",
   "execution_count": 8,
   "metadata": {},
   "outputs": [
    {
     "name": "stdout",
     "output_type": "stream",
     "text": [
      "The net parameter a is:  118.54897805452406  angstrons\n"
     ]
    },
    {
     "data": {
      "image/png": "[encoded data removed]",
      "text/plain": [
       "<Figure size 720x360 with 1 Axes>"
      ]
     },
     "metadata": {
      "needs_background": "light"
     },
     "output_type": "display_data"
    }
   ],
   "source": [
    "plt.figure(figsize=(10, 5))\n",
    "plt.plot(q_selected,I_selected, 'k', label = file_name)\n",
    "plt.yscale('log')\n",
    "#plt.xscale('log')\n",
    "plt.legend()\n",
    "\n",
    "q_00 = 0.0612\n",
    "plt.axvline(x=np.sqrt(1.0)*q_00, color='r') #100\n",
    "plt.axvline(x=np.sqrt(3.0)*q_00, color = 'r') #110\n",
    "plt.axvline(x=np.sqrt(4.0)*q_00, color = 'r') #200\n",
    "plt.axvline(x=np.sqrt(7.0)*q_00, color = 'r') #210\n",
    "plt.axvline(x=np.sqrt(9.0)*q_00, color = 'r') #300\n",
    "plt.axvline(x=np.sqrt(12.0)*q_00, color = 'b') #220\n",
    "plt.axvline(x=np.sqrt(13.0)*q_00, color = 'b') #310\n",
    "plt.axvline(x=np.sqrt(16.0)*q_00, color = 'b') #400\n",
    "plt.axvline(x=np.sqrt(19.0)*q_00, color = 'b') #320\n",
    "plt.axvline(x=np.sqrt(21.0)*q_00, color = 'b') #410\n",
    "plt.axvline(x=np.sqrt(27.0)*q_00, color = 'b') #330\n",
    "plt.axvline(x=np.sqrt(28.0)*q_00, color = 'b') #420\n",
    "\n",
    "a_net = 4.0*np.pi/(q_00*np.sqrt(3.0))\n",
    "#plt.plot(q_selected, 0.0025*q_selected**(-4))\n",
    "#plt.plot(q_selected, 2.0*q_selected**(-1))\n",
    "#q_01 = 0.07\n",
    "#plt.axvline(x=q_01, color='g')\n",
    "#plt.axvline(x=2*q_01, color = 'g')\n",
    "#plt.axvline(x=3*q_01, color = 'g')\n",
    "#plt.axvline(x=4*q_01, color = 'g')\n",
    "print('The net parameter a is: ', a_net, ' angstrons')"
   ]
  },
  {
   "cell_type": "markdown",
   "metadata": {},
   "source": [
    "The SBA-15 model is formed by core-shell cylinders arranged in a 2D hexagonal simetry. This system is taken to be a \"two-phase system\", i.e., polydisperse particles (\"phase 1\"), with electron density $\\rho_1$ and volume fraction $\\phi_1$, in a matrix (\"phase 2\") of electron density $\\rho_2$ and volume fraction $\\phi_2=1-\\phi_1$ separated by sharp interfaces (Sundblom2009). Then, the scattering cross-section per unit of volume is described by:\n",
    "$$\\frac{d\\sigma(q)}{d\\Omega}=(\\rho_1-\\rho_2)^2n_d \\langle A(q) \\rangle^2[1+\\beta(q)(\\langle Z(q) \\rangle-1)]$$ \n",
    "\n",
    "Since $\\beta(q)=\\frac{\\langle A(q) \\rangle ^2}{\\langle A(q)^2 \\rangle}$, the previous equation could be written as:\n",
    "\n",
    "$$\\frac{d\\sigma(q)}{d\\Omega}=(\\rho_1-\\rho_2)^2n_d [\\langle A(q)^2 \\rangle + \\langle A(q)\\rangle^2(\\langle Z(q) \\rangle-1)]$$ \n",
    "\n",
    "The angular brackets $\\langle \\dots \\rangle$ denote an average with respect to the particle size distribution and the spatial distribution of particles. Here we will assume both distributions independent. Also, this *decoupling aproximation*, which allow us to factorize the scattering intensity into form factor and structure factor product, is not valid for very polydisperse systems. \n",
    "The parameter $n_d$ is the number density of the particles, $\\langle A(q)^2 \\rangle$ is the form factor, related to the particle shape, usually denoted by $P(q)$, whereas the structure factor $S(q)=1+\\beta(q)(\\langle Z(q) \\rangle-1)$ contains informaton about the lattice structure.\n",
    "The form factor in this case can be expressed analytically by a core-shell cylinder form factor:\n",
    "\n",
    "$$P_{cyl-cs}(q)=\\int_{0}^{\\pi/2}\\left[ A_{cyl-cs}\\right]^2\\sin \\alpha d\\alpha$$\n",
    "\n",
    "where:\n",
    "\n",
    "$$F_{cyl-cs}(q)=\\Delta\\rho_{shell}\\cdot V(R_{out},L)\\cdot A_{cyl}(q,R_{out}, L, \\alpha)-(\\Delta\\rho_{shell}-\\Delta\\rho_{core})\\cdot V(R_{core},L)\\cdot A_{cyl}(q,R_{core}, L, \\alpha)$$\n",
    "\n",
    "$$V(R, L)=\\pi R^2L$$\n",
    "\n",
    "$$A_{cyl}(q,R,L,\\alpha)=\\frac{2 J_1(qR\\sin\\alpha)}{qR\\sin\\alpha}\\frac{\\sin(0.5 qL\\cos\\alpha)}{0.5 qL\\cos\\alpha}$$\n",
    "\n",
    "being $J_1$ the first-order Bessel function of the first kind. For fitting purposes, it is possible rewrite the $F_{cyl-sc}$ in a more convenient way:\n",
    "\n",
    "$$F_{cyl-cs}(q)=\\Delta\\rho_{shell}\\cdot V(R_{out},L)\\cdot \\left[ A_{cyl}(q,R_{out}, L, \\alpha)-\\left(1-\\frac{\\Delta\\rho_{core}}{\\Delta\\rho_{shell}}\\right)\\cdot \\left(\\frac{R_{core}}{R_{out}}\\right)^2\\cdot A_{cyl}(q,R_{core}, L, \\alpha)\\right]$$\n",
    "\n",
    "The factor $\\Delta\\rho_{shell}\\cdot V(R_{out},L)$ will be later included in a generic scale factor, whereas we will call $\\left(1-\\frac{\\Delta\\rho_{core}}{\\Delta\\rho_{shell}}\\right)$ simply as $B$. Then, for all fitting purposes, the final expression for $F_{cyl-cs}(q)$ becomes:\n",
    "\n",
    "$$F_{cyl-cs}(q)= A_{cyl}(q,R_{out}, L, \\alpha)-B\\cdot \\left(\\frac{R_{core}}{R_{out}}\\right)^2\\cdot A_{cyl}(q,R_{core}, L, \\alpha)$$"
   ]
  },
  {
   "cell_type": "code",
   "execution_count": 9,
   "metadata": {},
   "outputs": [],
   "source": [
    "#core-shell cylinder form factor\n",
    "\n",
    "def integration_1D(f, a, b, n):\n",
    "    #calculates the integral of f(x) in an interval [a,b] using midpoint strategy with n points/subintervals\n",
    "    hx = float(b-a)/n\n",
    "    x = np.linspace(a + hx/2, b - hx/2, n)\n",
    "    return hx*np.sum(f(x))\n",
    "\n",
    "def V_cyl(R,L):\n",
    "    #calculates the cylinder volume\n",
    "    return np.pi*R**2*L\n",
    "\n",
    "def A_cyl(q_value, R, L, alpha):\n",
    "    #calculates the amplitude form factor for a cylinder F_cyl(q)\n",
    "    \n",
    "    A = q_value*R*np.sin(alpha)\n",
    "    B = 0.5*q_value*L*np.cos(alpha)\n",
    "    \n",
    "    return 2.0*ss.jv(1,A)*np.sin(B)/(A*B)\n",
    "\n",
    "def A_cyl_cs(q_value, R_core, R_out, L, B, alpha):\n",
    "    return A_cyl(q_value, R_out, L, alpha)-B*(R_core/R_out)**2*A_cyl(q_value, R_core, L, alpha)\n",
    "\n",
    "def P_cyl_cs(q_value, R_core, R_out, L, B):\n",
    "    integrand = lambda alpha: (A_cyl_cs(q_value, R_core, R_out, L, B, alpha))**2*np.sin(alpha)\n",
    "    \n",
    "    return integration_1D(integrand,0.0,0.5*np.pi,200)\n",
    "\n",
    "def P_cyl_cs_values(q_values, R_core, R_out, L, B):\n",
    "    P_values = []\n",
    "    for q in q_values:\n",
    "        P_values.append(P_cyl_cs(q, R_core, R_out, L, B))\n",
    "    return np.asarray(P_values)"
   ]
  },
  {
   "cell_type": "code",
   "execution_count": 10,
   "metadata": {},
   "outputs": [
    {
     "data": {
      "text/plain": [
       "\"plt.plot(q_selected, P_cyl_cs_values(q_selected, 40.0, 50.0, 5000.0, 1.0), label='cs cylinder')\\nplt.yscale('log')\\nplt.xscale('log')\\nplt.legend()\\n\\n#%timeit (P_cyl_cs_values(q_selected, 40.0, 50.0, 5000.0, 1.0))\""
      ]
     },
     "execution_count": 10,
     "metadata": {},
     "output_type": "execute_result"
    }
   ],
   "source": [
    "'''plt.plot(q_selected, P_cyl_cs_values(q_selected, 40.0, 50.0, 5000.0, 1.0), label='cs cylinder')\n",
    "plt.yscale('log')\n",
    "plt.xscale('log')\n",
    "plt.legend()\n",
    "\n",
    "#%timeit (P_cyl_cs_values(q_selected, 40.0, 50.0, 5000.0, 1.0))'''"
   ]
  },
  {
   "cell_type": "markdown",
   "metadata": {},
   "source": [
    "If the cylinder is long, i.e, $L>>R$, then $P_{cyl-cs}$ may be approximated as a product of the longitudinal factor, parallel to the cylinder axis, $P_{cyl-cs\\parallel}(q)$, and the cross-section particle contribution, $P_{cyl-cs\\perp}(q)$, i.e., \n",
    "\n",
    "$$P_{cyl-cs}(q)\\cong P_{cyl-cs\\parallel}(q)\\cdot P_{cyl-cs\\perp}(q)$$\n",
    "\n",
    "where:\n",
    "\n",
    "$$P_{cyl-cs\\parallel}(q)=\\frac{Si(qL)}{0.5qL}-\\left[\\frac{\\sin(0.5qL)}{(0.5qL)}\\right]^2$$\n",
    "\n",
    "$$Si(x)=\\int_{0}^{x}\\frac{\\sin t}{t} dt$$\n",
    "\n",
    "$$P_{cyl-cs\\perp}(q)=[\\Delta\\rho_{shell}\\cdot V(R_{out},L)\\cdot A_{cyl-\\perp}(q,R_{out})-(\\Delta\\rho_{shell}-\\Delta\\rho_{core})\\cdot V(R_{core},L)\\cdot A_{cyl-\\perp}(q,R_{core})]^2$$\n",
    "\n",
    "$$A_{cyl-\\perp}(q,R)=\\frac{2J_1(qR)}{qR}$$\n",
    "\n",
    "Doing the same thing as before for $P_{cyl-cs\\perp}(q)$, for fitting purposes it matters:\n",
    "\n",
    "$$P_{cyl-cs\\perp}(q)=\\left[A_{cyl-\\perp}(q,R_{out}) -B \\cdot \\left ( \\frac{R_{core}}{R_{out}}\\right ) ^2 \\cdot A_{cyl-\\perp}(q,R_{core})\\right]^2$$"
   ]
  },
  {
   "cell_type": "code",
   "execution_count": 11,
   "metadata": {},
   "outputs": [],
   "source": [
    "#long core-shell cylinder form factor\n",
    "\n",
    "def P_cyl_cs_parallel(q_value, L):\n",
    "    #ss.sici(x)[0] calculates the sine integral function of x\n",
    "    #ss.sici(x)[1] calculates the cosine integral function of x\n",
    "    \n",
    "    Aux1 = q_value*L\n",
    "    Aux2 = 0.5*Aux1\n",
    "    \n",
    "    return ss.sici(Aux1)[0]/Aux2 - (np.sin(Aux2)/Aux2)**2\n",
    "    \n",
    "    \n",
    "def A_cyl_perp(q_value,R):\n",
    "    Aux = q_value*R\n",
    "    #ss.jv(1,x): Bessel function of the first kind of first order of x (could be float or complex)\n",
    "    return 2.0*ss.jv(1,Aux)/Aux\n",
    "\n",
    "def P_cyl_cs_perp(q_value, R_core, R_out, B):\n",
    "    return (A_cyl_perp(q_value,R_out)-B*(R_core/R_out)**2*A_cyl_perp(q_value,R_core))**2\n",
    "\n",
    "def P_cyl_cs_approx(q_value, R_core, R_out, L, B):\n",
    "    return P_cyl_cs_parallel(q_value, L)*P_cyl_cs_perp(q_value, R_core, R_out, B)\n",
    "\n",
    "def P_cyl_cs_approx_values(q_values, R_core, R_out, L, B):\n",
    "    P_values = []\n",
    "    for q in q_values:\n",
    "        P_values.append(P_cyl_cs_approx(q, R_core, R_out, L, B))\n",
    "    return np.asarray(P_values)"
   ]
  },
  {
   "cell_type": "code",
   "execution_count": 12,
   "metadata": {},
   "outputs": [
    {
     "data": {
      "text/plain": [
       "\"plt.plot(q_selected, P_cyl_cs_approx_values(q_selected, 40.0, 50.0, 1000.0, 1.0), label='cs cylinder approx')\\nplt.plot(q_selected, P_cyl_cs_values(q_selected, 40.0, 50.0, 1000.0, 1.0), label='cs cylinder')\\nplt.yscale('log')\\nplt.xscale('log')\\nplt.legend()\\n\\n#print('cylinder time')\\n#%timeit (P_cyl_cs_values(q_selected, 40.0, 50.0, 1000.0, 1.0))\\n\\n#print('cylinder approx time')\\n#%timeit (P_cyl_cs_approx_values(q_selected, 40.0, 50.0, 1000.0, 1.0))\\n\""
      ]
     },
     "execution_count": 12,
     "metadata": {},
     "output_type": "execute_result"
    }
   ],
   "source": [
    "'''plt.plot(q_selected, P_cyl_cs_approx_values(q_selected, 40.0, 50.0, 1000.0, 1.0), label='cs cylinder approx')\n",
    "plt.plot(q_selected, P_cyl_cs_values(q_selected, 40.0, 50.0, 1000.0, 1.0), label='cs cylinder')\n",
    "plt.yscale('log')\n",
    "plt.xscale('log')\n",
    "plt.legend()\n",
    "\n",
    "#print('cylinder time')\n",
    "#%timeit (P_cyl_cs_values(q_selected, 40.0, 50.0, 1000.0, 1.0))\n",
    "\n",
    "#print('cylinder approx time')\n",
    "#%timeit (P_cyl_cs_approx_values(q_selected, 40.0, 50.0, 1000.0, 1.0))\n",
    "'''"
   ]
  },
  {
   "cell_type": "markdown",
   "metadata": {},
   "source": [
    "As we see above, the use of the approximation for the long cylinder can save us a lot of time. But, instead $L=5000$, as done in Sundblom2009 and later publications, we can use $L=1000$, because with $L=5000$, there are discrepancies at high $q$.\n",
    "\n",
    "We can make the form factor more realistic. We may then introduce:\n",
    "* Smeared interfaces\n",
    "* Polydispersity\n",
    "\n",
    "Smear the interfaces mean multiply the terms in the amplitude form factor functions $F(q)$ by $\\exp(-0.5q^2\\sigma^2)$. The polidispersity can be included by any size distribution. In Sundblom2009, it was used a schultz-zimm distribution, since it can be simetric or assimetric. This is a good feature, but its mathematical formula has some pratical problems related to divergence. On the other hand, lognormal distribution is more well behaviored.\n",
    "\n",
    "For smearing, let's introduce the factor $\\exp(-0.5q^2\\sigma^2)$ into $P_{cyl-cs\\perp}(q)$:\n",
    "\n",
    "$$P_{cyl-cs\\perp}(q)=\\left[A_{cyl-\\perp}(q,R_{out})\\cdot e^{-0.5q^2\\sigma_{out}^2} -B \\cdot \\left ( \\frac{R_{core}}{R_{out}}\\right ) ^2 \\cdot A_{cyl-\\perp}(q,R_{core})\\cdot e^{-0.5q^2\\sigma_{core}^2}\\right]^2$$\n",
    "\n",
    "Differently from Sundblom2009, here we introduce two interfacial smearings: for the outer part of the cylinder, but also for the internal part."
   ]
  },
  {
   "cell_type": "code",
   "execution_count": 13,
   "metadata": {},
   "outputs": [],
   "source": [
    "def smear(q,sig):\n",
    "    return np.exp(-0.5*(q*sig)**2)\n",
    "\n",
    "def P_cyl_cs_perp_smear(q_value, R_core, R_out, B, sig_out, sig_core):\n",
    "    return (A_cyl_perp(q_value,R_out)*smear(q_value,sig_out)-B*(R_core/R_out)**2*A_cyl_perp(q_value,R_core)*smear(q_value,sig_core))**2"
   ]
  },
  {
   "cell_type": "markdown",
   "metadata": {},
   "source": [
    "Now, let's introduce the polidisperity by means of lognormal distribution. For a given $X$ random variable that follows a lognormal distribution with mean $\\theta$ and standard deviation $\\omega$, i.e., $X\\sim \\Lambda(\\theta,\\omega)$, then the probability density function, $f(X)$, is written as:\n",
    "\n",
    "$$f(X)=\\frac{1}{X\\omega\\sqrt{2\\pi}}\\exp\\left[-0.5\\left(\\frac{\\ln X-\\theta}{\\omega}\\right)^2\\right]$$\n",
    "\n",
    "Note that $\\theta$ and $\\omega$ are parameters of the lognormal distribution, not the *average* and *standard deviation* of $X$. But, having $\\theta$ and $\\omega$, the expectation of X and its standard deviation are given by:\n",
    "$$E(X)=\\mu=\\exp\\left(\\theta+0.5\\omega^2\\right)$$\n",
    "$$\\sqrt{V(X)}=\\sigma=\\sqrt{\\exp(2\\theta+\\omega^2)\\cdot[\\exp(\\omega^2)-1]}$$\n",
    "\n",
    "To work directly with $\\mu$ and $\\sigma$ as fitting parameters, it is interesting invert the previous expressions:\n",
    "$$\\theta = \\ln\\mu-0.5\\ln\\left(\\frac{\\sigma^2}{\\mu^2}+1\\right)$$\n",
    "$$\\omega=\\sqrt{\\ln\\left(\\frac{\\sigma^2}{\\mu^2}+1\\right)}$$\n",
    "\n",
    "The polydispersed version of $P_{cyl-cs\\perp}(q)$ is calculated by:\n",
    "\n",
    "$$P_{cyl-cs\\perp}(q)=\\langle A_{cyl-cs\\perp}(q)^2 \\rangle=\\frac{\\int_{0}^{\\infty}f(r)[A_{cyl-cs\\perp}(q,r)]^2 dr}{\\int_{0}^{\\infty}f(r)dr}$$\n",
    "\n",
    "where:\n",
    "\n",
    "$$A_{cyl-cs\\perp}(q,r)=A_{cyl-\\perp}(q,R_{out})\\cdot e^{-0.5q^2\\sigma_{out}^2} -B \\cdot \\left ( \\frac{r}{R_{out}}\\right ) ^2 \\cdot A_{cyl-\\perp}(q,r)\\cdot e^{-0.5q^2\\sigma_{core}^2}$$\n",
    "\n",
    "It is clear the polidispersity is introduced in $R_{core}$ paramater. Depending on the average and standard deviation chosen for $R_{core}$, it is possible that $R_{core}>R_{out}$, which makes no sense. So, it is convenient use the thickness of the shell, $T$, for now on as a fitting parameter instead $R_{out}$ in such a way that $R_{out}=R_{core}+T$. In this case:\n",
    "\n",
    "$$A_{cyl-cs\\perp}(q,r)=A_{cyl-\\perp}(q,r+T)\\cdot e^{-0.5q^2\\sigma_{out}^2} -B \\cdot \\left ( \\frac{r}{r+T}\\right ) ^2 \\cdot A_{cyl-\\perp}(q,r)\\cdot e^{-0.5q^2\\sigma_{core}^2}$$"
   ]
  },
  {
   "cell_type": "code",
   "execution_count": 14,
   "metadata": {},
   "outputs": [],
   "source": [
    "#long core-shell cylinder form factor with smeared interface and polidispersity effects\n",
    "\n",
    "#mean (expected value) and standart deviation calculation from lognormal distribution parameters\n",
    "def mu(theta, omega):\n",
    "    return np.exp(theta+0.5*omega**2)\n",
    "\n",
    "def sigma(theta, omega):\n",
    "    return np.sqrt(np.exp(2.0*theta+omega**2)*(np.exp(omega**2)-1.0))\n",
    "\n",
    "#inputs for lognorml distribution calculated from expected and variance values of X\n",
    "def theta(mu,sigma):\n",
    "    return np.log(mu)-0.5*np.log(sigma**2/mu**2+1)\n",
    "    \n",
    "def omega(mu,sigma):\n",
    "    return np.sqrt(np.log(sigma**2/mu**2+1))\n",
    "\n",
    "def log_norm(x, mu, sigma):\n",
    "    #log normal distribution with mu and sigma instead theta and omega\n",
    "    theta_ = theta(mu,sigma)\n",
    "    omega_ = omega(mu,sigma)\n",
    "    return (1.0/(x*omega_*np.sqrt(2.0*np.pi)))*np.exp(-0.5*((np.log(x)-theta_)/omega_)**2)\n",
    "\n",
    "#obtaining log-normal distribution from the rigth expected and variance values of X\n",
    "#using a 98% confidence interval (t=2.33)\n",
    "def lognormal_graph(mu,sigma):\n",
    "    \n",
    "    npoi = 200\n",
    "    sumpq = np.zeros(npoi)\n",
    "    x_teste = np.zeros(npoi)\n",
    "    \n",
    "    #inputs for log-norm distribution\n",
    "    the = theta(mu,sigma)\n",
    "    ome = omega(mu,sigma)\n",
    "    \n",
    "    Xmin = np.exp(the-4.0*ome)\n",
    "    Xmax = np.exp(the+4.0*ome)\n",
    "    \n",
    "    #incremento\n",
    "    DelR = (Xmax - Xmin)/npoi\n",
    "    i = 0\n",
    "    while i<npoi:\n",
    "        x_teste[i] = Xmin + (float(i+1)-0.5)*DelR\n",
    "        sumpq[i] = log_norm(x_teste[i],mu,sigma)\n",
    "        i = i + 1\n",
    "    return x_teste, sumpq\n",
    "\n",
    "#deveria multiplicar sumpq por DelR, mas isso nao fara diferenca pq entrara no fator de escala\n",
    "\n",
    "\n",
    "\n",
    "def P_cyl_cs_perp_smear_poly(q_value, R_core, T, B, sig_out, sig_core, sig_R_core):\n",
    "    #in this case, R_core is the average value for r, and sig_R_core its stardard deviation\n",
    "    #R_out = r + T\n",
    "    integrand = lambda r: log_norm(r, R_core, sig_R_core)*(A_cyl_perp(q_value,r + T)*smear(q_value,sig_out)-B*(R_core/(r + T))**2*A_cyl_perp(q_value,r)*smear(q_value,sig_core))**2\n",
    "    \n",
    "    r_min = R_core - 4.0*sig_R_core \n",
    "    r_max = R_core + 4.0*sig_R_core\n",
    "    \n",
    "    if r_min < 0:\n",
    "        r_min = 0.0\n",
    "    \n",
    "    return integration_1D(integrand, r_min, r_max,200)\n",
    "\n",
    "def poly_gen_pedro(R_core, sig_R_core, NFOLD):\n",
    "    #generates Ri and N(Ri) values\n",
    "    #NFOLD = 200 --> default\n",
    "    DR=8.0*sig_R_core/float(NFOLD)\n",
    "    R_min=R_core-4.0*sig_R_core\n",
    "    R_max=R_core+4.0*sig_R_core\n",
    "    if(R_min < 0.0):\n",
    "        R_min=0.0\n",
    "    Ri = np.linspace(R_min+0.5*DR, R_max-0.5*DR, NFOLD)\n",
    "    NRi = log_norm(Ri,R_core, sig_R_core)*DR\n",
    "\n",
    "    return NRi, Ri\n",
    "\n",
    "def P_cyl_cs_perp_smear_poly2(q_values, R_core, T, B, sig_out, sig_core, sig_R_core):\n",
    "    #in this case, R_core is the average value for r, and sig_R_core its stardard deviation\n",
    "    #R_out = r + T\n",
    "\n",
    "    NFOLD = 50\n",
    "    NRi_Ri_values = poly_gen_pedro(R_core, sig_R_core, NFOLD)\n",
    "    NRi = NRi_Ri_values[0]\n",
    "    Ri = NRi_Ri_values[1]\n",
    "    SUM_tot = []\n",
    "    \n",
    "    for q in q_values:\n",
    "        SUM = sum(NRi*(A_cyl_perp(q,Ri + T)*smear(q,sig_out)-B*(R_core/(Ri + T))**2*A_cyl_perp(q,Ri)*smear(q,sig_core))**2)\n",
    "        SUM_tot.append(SUM)\n",
    "    \n",
    "    return np.asarray(SUM_tot)\n",
    "\n",
    "\n",
    "def P_cyl_cs_approx_smear_poly(q_value, R_core, T, L, B, sig_out, sig_core, sig_R_core):\n",
    "    return P_cyl_cs_parallel(q_value, L)*P_cyl_cs_perp_smear_poly(q_value, R_core, T, B, sig_out, sig_core, sig_R_core)\n",
    "\n",
    "def P_cyl_cs_approx_smear_poly_values(q_values, R_core, T, L, B, sig_out, sig_core, sig_R_core):\n",
    "    P_values = []\n",
    "    for q in q_values:\n",
    "        P_values.append(P_cyl_cs_approx_smear_poly(q, R_core, T, L, B, sig_out, sig_core, sig_R_core))\n",
    "    return np.asarray(P_values)\n",
    "\n",
    "\n",
    "def P_cyl_cs_approx_smear_poly_values2(q_values, R_core, T, L, B, sig_out, sig_core, sig_R_core):\n",
    "    return P_cyl_cs_parallel(q_values, L)*P_cyl_cs_perp_smear_poly2(q_values, R_core, T, B, sig_out, sig_core, sig_R_core)"
   ]
  },
  {
   "cell_type": "code",
   "execution_count": 15,
   "metadata": {},
   "outputs": [],
   "source": [
    "#%timeit (P_cyl_cs_approx_smear_poly_values2(q_selected, R_corep, Tp, Lp, Bp, sig_outp, sig_corep, sig_R_corep))\n",
    "#%timeit (P_cyl_cs_approx_smear_poly_values(q_selected, R_corep, Tp, Lp, Bp, sig_outp, sig_corep, sig_R_corep))"
   ]
  },
  {
   "cell_type": "code",
   "execution_count": 16,
   "metadata": {},
   "outputs": [
    {
     "data": {
      "text/plain": [
       "\"plt.plot(q_selected, P_cyl_cs_approx_smear_poly_values(q_selected, 40.0, 10.0, 1000.0, 1.0, 3.0, 2.0, 0.001), label='cs cylinder approx poly smear')\\nplt.plot(q_selected, P_cyl_cs_approx_smear_poly_values2(q_selected, 40.0, 10.0, 1000.0, 1.0, 3.0, 2.0, 0.001), label='cs cylinder approx poly smear')\\nplt.yscale('log')\\n\""
      ]
     },
     "execution_count": 16,
     "metadata": {},
     "output_type": "execute_result"
    }
   ],
   "source": [
    "'''plt.plot(q_selected, P_cyl_cs_approx_smear_poly_values(q_selected, 40.0, 10.0, 1000.0, 1.0, 3.0, 2.0, 0.001), label='cs cylinder approx poly smear')\n",
    "plt.plot(q_selected, P_cyl_cs_approx_smear_poly_values2(q_selected, 40.0, 10.0, 1000.0, 1.0, 3.0, 2.0, 0.001), label='cs cylinder approx poly smear')\n",
    "plt.yscale('log')\n",
    "'''"
   ]
  },
  {
   "cell_type": "code",
   "execution_count": 17,
   "metadata": {},
   "outputs": [
    {
     "data": {
      "text/plain": [
       "[<matplotlib.lines.Line2D at 0x15155c7d50>]"
      ]
     },
     "execution_count": 17,
     "metadata": {},
     "output_type": "execute_result"
    },
    {
     "data": {
      "image/png": "[encoded data removed]",
      "text/plain": [
       "<Figure size 432x288 with 1 Axes>"
      ]
     },
     "metadata": {
      "needs_background": "light"
     },
     "output_type": "display_data"
    }
   ],
   "source": [
    "plt.plot(lognormal_graph(0.7,0.01)[0], lognormal_graph(0.7,0.01)[1])"
   ]
  },
  {
   "cell_type": "code",
   "execution_count": 18,
   "metadata": {},
   "outputs": [
    {
     "data": {
      "text/plain": [
       "'\\nplt.figure(figsize=(15, 4))\\n\\nplt.subplot(1, 2, 1) #a 1-row, 2-column figure: go to the first subplot.\\nplt.plot(q_selected, P_cyl_cs_approx_values(q_selected, 40.0, 50.0, 1000.0, 1.0), label=\\'cs cylinder approx\\')\\nplt.plot(q_selected, P_cyl_cs_approx_smear_poly_values(q_selected, 40.0, 10.0, 1000.0, 1.0, 3.0, 2.0, 0.001), label=\\'cs cylinder approx poly smear\\')\\nplt.yscale(\\'log\\')\\n#plt.xscale(\\'log\\')\\nplt.legend()\\n\\nplt.subplot(1, 2, 2) #1-row, 2-column figure: go to the second subplot.\\nplt.plot(lognormal_graph(40.0,0.01)[0],lognormal_graph(40.0,0.01)[1], color=\\'orange\\')\\n\\n\"\"\"\\nprint(\\'cylinder approx time\\')\\n%timeit (P_cyl_cs_approx_values(q_selected, 40.0, 50.0, 1000.0, 1.0))\\n\\nprint(\\'cylinder approx poly smear time\\')\\n%timeit (P_cyl_cs_approx_smear_poly_values(q_selected, 40.0, 50.0, 1000.0, 1.0, 3.0, 2.0, 3.0)\"\\n\"\"\\'\\n'"
      ]
     },
     "execution_count": 18,
     "metadata": {},
     "output_type": "execute_result"
    }
   ],
   "source": [
    "'''\n",
    "plt.figure(figsize=(15, 4))\n",
    "\n",
    "plt.subplot(1, 2, 1) #a 1-row, 2-column figure: go to the first subplot.\n",
    "plt.plot(q_selected, P_cyl_cs_approx_values(q_selected, 40.0, 50.0, 1000.0, 1.0), label='cs cylinder approx')\n",
    "plt.plot(q_selected, P_cyl_cs_approx_smear_poly_values(q_selected, 40.0, 10.0, 1000.0, 1.0, 3.0, 2.0, 0.001), label='cs cylinder approx poly smear')\n",
    "plt.yscale('log')\n",
    "#plt.xscale('log')\n",
    "plt.legend()\n",
    "\n",
    "plt.subplot(1, 2, 2) #1-row, 2-column figure: go to the second subplot.\n",
    "plt.plot(lognormal_graph(40.0,0.01)[0],lognormal_graph(40.0,0.01)[1], color='orange')\n",
    "\n",
    "\"\"\"\n",
    "print('cylinder approx time')\n",
    "%timeit (P_cyl_cs_approx_values(q_selected, 40.0, 50.0, 1000.0, 1.0))\n",
    "\n",
    "print('cylinder approx poly smear time')\n",
    "%timeit (P_cyl_cs_approx_smear_poly_values(q_selected, 40.0, 50.0, 1000.0, 1.0, 3.0, 2.0, 3.0)\"\n",
    "\"\"'\n",
    "'''"
   ]
  },
  {
   "cell_type": "markdown",
   "metadata": {},
   "source": [
    "Until now we have calculated $P(q)=\\langle A(q)^2 \\rangle$. Let's calculate also $\\langle A(q) \\rangle^2$, where\n",
    "$$\\langle A_{cyl-cs\\perp}(q) \\rangle = \\frac{\\int_{0}^{\\infty}f(r)A_{cyl-cs\\perp}(q,r) dr}{\\int_{0}^{\\infty}f(r)dr}$$\n",
    "and, consequently, \n",
    "$$\\langle A_{cyl-cs\\perp}(q) \\rangle^2 =\\left[ \\frac{\\int_{0}^{\\infty}f(r)A_{cyl-cs\\perp}(q,r) dr}{\\int_{0}^{\\infty}f(r)dr}\\right]^2$$"
   ]
  },
  {
   "cell_type": "code",
   "execution_count": 19,
   "metadata": {},
   "outputs": [],
   "source": [
    "def A_cyl_cs_approx_smear_poly_squared(q_value, R_core, T, L, B, sig_out, sig_core, sig_R_core):\n",
    "    #in this case, R_core is the average value for r, and sig_R_core its stardard deviation\n",
    "    #R_out = r + T\n",
    "    integrand = lambda r: log_norm(r, R_core, sig_R_core)*(A_cyl_perp(q_value,r + T)*smear(q_value,sig_out)-B*(R_core/(r + T))**2*A_cyl_perp(q_value,r)*smear(q_value,sig_core))\n",
    "        \n",
    "    r_min = R_core - 4.0*sig_R_core \n",
    "    r_max = R_core + 4.0*sig_R_core\n",
    "    \n",
    "    if r_min < 0:\n",
    "        r_min = 0.0\n",
    "    \n",
    "    return P_cyl_cs_parallel(q_value, L)*(integration_1D(integrand, r_min, r_max,200))**2\n",
    "\n",
    "\n",
    "def A_cyl_cs_approx_smear_poly_squared_values2(q_values, R_core, T, L, B, sig_out, sig_core, sig_R_core):\n",
    "    #in this case, R_core is the average value for r, and sig_R_core its stardard deviation\n",
    "    #R_out = r + T\n",
    "    NFOLD = 50\n",
    "    NRi_Ri_values = poly_gen_pedro(R_core, sig_R_core, NFOLD)\n",
    "    NRi = NRi_Ri_values[0]\n",
    "    Ri = NRi_Ri_values[1]\n",
    "    SUM_tot = []\n",
    "    \n",
    "    for q in q_values:\n",
    "        SUM = sum(NRi*(A_cyl_perp(q,Ri + T)*smear(q,sig_out)-B*(R_core/(Ri + T))**2*A_cyl_perp(q,Ri)*smear(q,sig_core)))\n",
    "        SUM_tot.append(P_cyl_cs_parallel(q, L)*SUM**2)\n",
    "    \n",
    "    return np.asarray(SUM_tot)\n",
    "\n",
    "def A_cyl_cs_approx_smear_poly_squared_values(q_values, R_core, T, L, B, sig_out, sig_core, sig_R_core):\n",
    "    values = []\n",
    "    for q in q_values:\n",
    "        values.append(A_cyl_cs_approx_smear_poly_squared(q, R_core, T, L, B, sig_out, sig_core, sig_R_core))\n",
    "    return np.asarray(values)"
   ]
  },
  {
   "cell_type": "code",
   "execution_count": 20,
   "metadata": {},
   "outputs": [],
   "source": [
    "#%timeit (A_cyl_cs_approx_smear_poly_squared_values2(q_selected, R_corep, Tp, Lp, Bp, sig_outp, sig_corep, sig_R_corep))\n",
    "#%timeit (A_cyl_cs_approx_smear_poly_squared_values(q_selected, R_corep, Tp, Lp, Bp, sig_outp, sig_corep, sig_R_corep))"
   ]
  },
  {
   "cell_type": "markdown",
   "metadata": {},
   "source": [
    "Now,let's focus our attention to the structure factor, which means write the expression for $Z(q)$. The simplest version of it would be built using Gauss functions for the peak shape. However, let's use the more general peak function, as proposed by Sundblom2009:\n",
    "\n",
    "$$Z(q)=c\\frac{2}{\\sqrt{3}a^2q}\\sum_{hk}m_{hk}L_{hk}(q)$$\n",
    "\n",
    "with \n",
    "    $$L_{hk}(q)=\\frac{2}{\\pi\\delta}\\left| \\frac{\\Gamma\\left[0.5\\nu+\\frac{2\\gamma_{nu}(q-q_{hk})}{\\pi\\delta}i\\right]}{\\Gamma[0.5\\nu]}\\right|^2$$\n",
    "\n",
    "$$\\gamma_{nu}=\\sqrt{\\pi}\\frac{\\Gamma\\left[0.5(\\nu+1)\\right]}{\\Gamma[0.5\\nu]}$$\n",
    "\n",
    "$$\\int_{-\\infty}^{\\infty}L_{hk}(q)dq=1$$\n",
    "\n",
    "$\\delta$ is the width of the peaks, $\\Gamma(z)$ is the complex gamma function, and $\\nu$ determines the shape of the peak (if $\\nu\\rightarrow 0$, lorentzian, if $\\nu\\rightarrow \\infty$, gaussian)."
   ]
  },
  {
   "cell_type": "code",
   "execution_count": 21,
   "metadata": {},
   "outputs": [
    {
     "data": {
      "text/plain": [
       "\"#plt.plot(q_selected, A_cyl_cs_perp_smear_poly_squared_values(q_selected, 40.0, 50.0, 1000.0, 1.0, 3.0, 2.0, 0.1))\\n#plt.plot(q_selected, A_cyl_cs_perp_smear_poly_squared_values(q_selected, 40.0, 50.0, 1000.0, 1.0, 3.0, 2.0, 3.1))\\n#plt.plot(q_selected, P_cyl_cs_approx_smear_poly_values(q_selected, 40.0, 50.0, 1000.0, 1.0, 3.0, 2.0, 3.1))\\nplt.plot(q_selected,A_cyl_cs_approx_smear_poly_squared_values(q_selected, 40.0, 50.0, 1000.0, 1.0, 3.0, 2.0, 0.1)/P_cyl_cs_approx_smear_poly_values(q_selected, 40.0, 50.0, 1000.0, 1.0, 3.0, 2.0, 0.1))\\nplt.yscale('log''\\n\""
      ]
     },
     "execution_count": 21,
     "metadata": {},
     "output_type": "execute_result"
    }
   ],
   "source": [
    "'''#plt.plot(q_selected, A_cyl_cs_perp_smear_poly_squared_values(q_selected, 40.0, 50.0, 1000.0, 1.0, 3.0, 2.0, 0.1))\n",
    "#plt.plot(q_selected, A_cyl_cs_perp_smear_poly_squared_values(q_selected, 40.0, 50.0, 1000.0, 1.0, 3.0, 2.0, 3.1))\n",
    "#plt.plot(q_selected, P_cyl_cs_approx_smear_poly_values(q_selected, 40.0, 50.0, 1000.0, 1.0, 3.0, 2.0, 3.1))\n",
    "plt.plot(q_selected,A_cyl_cs_approx_smear_poly_squared_values(q_selected, 40.0, 50.0, 1000.0, 1.0, 3.0, 2.0, 0.1)/P_cyl_cs_approx_smear_poly_values(q_selected, 40.0, 50.0, 1000.0, 1.0, 3.0, 2.0, 0.1))\n",
    "plt.yscale('log''\n",
    "'''"
   ]
  },
  {
   "cell_type": "code",
   "execution_count": 22,
   "metadata": {},
   "outputs": [
    {
     "data": {
      "text/plain": [
       "'\\ndef peak_shape(q_value,nu,q0,delta):\\n    #the property of the abs of a complex number, i.e. abs(z) = sqrt(z*z.conjugate), so that abs(z)**2 = z*z.conjugate\\n    Pi = np.pi\\n    Arg = 2.0/(Pi*delta)\\n    y_nu = Arg*(q_value-q0)\\n    gamma_nu = np.sqrt(Pi)*ss.gamma(complex(0.5*(nu+1.0),0.0))/ss.gamma(complex(0.5*nu,0.0))\\n    \\n    return (Arg)*(abs(ss.gamma(complex(0.5*nu,gamma_nu*y_nu))/ss.gamma(complex(0.5*nu,0.0))))**2\\n\\ndef peak_values(q_values,nu,q0,delta):\\n    peak_values = []\\n    for q in q_values:\\n        peak_values.append(peak_shape(q,nu,q0,delta))\\n    return np.asarray(peak_values)\\n\\ndef Z0_Q (q_value, nu,q0,delta, c, a):\\n    Aux = c*2.0/(np.sqrt(3.0)*a**2*q_value)\\n    \\n    return Aux*(6.0*peak_shape(q_value,nu,q0,delta)+6.0*peak_shape(q_value,nu,np.sqrt(3.0)*q0,delta)            +6.0*peak_shape(q_value,nu,2.0*q0,delta)+12.0*peak_shape(q_value,nu,np.sqrt(7.0)*q0,delta)            +6.0*peak_shape(q_value,nu,3.0*q0,delta))\\n\\ndef Z0_Q_values(q_values, nu, q0, delta, c, a):\\n    values = []\\n    for q in q_values:\\n        values.append(Z0_Q (q, nu,q0,delta, c, a))\\n    return np.asarray(values)\\n    \\n'"
      ]
     },
     "execution_count": 22,
     "metadata": {},
     "output_type": "execute_result"
    }
   ],
   "source": [
    "\"\"\"\n",
    "def peak_shape(q_value,nu,q0,delta):\n",
    "    #the property of the abs of a complex number, i.e. abs(z) = sqrt(z*z.conjugate), so that abs(z)**2 = z*z.conjugate\n",
    "    Pi = np.pi\n",
    "    Arg = 2.0/(Pi*delta)\n",
    "    y_nu = Arg*(q_value-q0)\n",
    "    gamma_nu = np.sqrt(Pi)*ss.gamma(complex(0.5*(nu+1.0),0.0))/ss.gamma(complex(0.5*nu,0.0))\n",
    "    \n",
    "    return (Arg)*(abs(ss.gamma(complex(0.5*nu,gamma_nu*y_nu))/ss.gamma(complex(0.5*nu,0.0))))**2\n",
    "\n",
    "def peak_values(q_values,nu,q0,delta):\n",
    "    peak_values = []\n",
    "    for q in q_values:\n",
    "        peak_values.append(peak_shape(q,nu,q0,delta))\n",
    "    return np.asarray(peak_values)\n",
    "\n",
    "def Z0_Q (q_value, nu,q0,delta, c, a):\n",
    "    Aux = c*2.0/(np.sqrt(3.0)*a**2*q_value)\n",
    "    \n",
    "    return Aux*(6.0*peak_shape(q_value,nu,q0,delta)+6.0*peak_shape(q_value,nu,np.sqrt(3.0)*q0,delta)\\\n",
    "            +6.0*peak_shape(q_value,nu,2.0*q0,delta)+12.0*peak_shape(q_value,nu,np.sqrt(7.0)*q0,delta)\\\n",
    "            +6.0*peak_shape(q_value,nu,3.0*q0,delta))\n",
    "\n",
    "def Z0_Q_values(q_values, nu, q0, delta, c, a):\n",
    "    values = []\n",
    "    for q in q_values:\n",
    "        values.append(Z0_Q (q, nu,q0,delta, c, a))\n",
    "    return np.asarray(values)\n",
    "    \n",
    "\"\"\""
   ]
  },
  {
   "cell_type": "code",
   "execution_count": 23,
   "metadata": {},
   "outputs": [],
   "source": [
    "def peak_shape(q_value,nu,q0,delta):\n",
    "    #the property of the abs of a complex number, i.e. abs(z) = sqrt(z*z.conjugate), so that abs(z)**2 = z*z.conjugate\n",
    "    PI = np.pi\n",
    "    Aux1 = ss.gamma(0.5*nu)\n",
    "    Aux2 = 2.0/(PI*delta)\n",
    "    \n",
    "    y_nu = 2.0j*(q_value-q0)/(PI*delta)\n",
    "    #print('this is y_nu')\n",
    "    #print(y_nu)\n",
    "    \n",
    "    #gamma_nu = np.sqrt(PI)*ss.gamma(complex(0.5*(nu+1.0),0.0))/ss.gamma(complex(0.5*nu,0.0))\n",
    "    gamma_nu = np.sqrt(PI)*ss.gamma(0.5*(nu+1.0))/Aux1\n",
    "    #print('this is gamma_nu')\n",
    "    #print(gamma_nu)\n",
    "    \n",
    "    return Aux2*abs(ss.gamma(0.5*nu + gamma_nu*y_nu)/Aux1)**2\n",
    "    \n",
    "#peak_values2 = np.vectorize(peak_shape2)\n",
    "    \n",
    "def Z0_Q (q, nu,q0,delta, c, a):\n",
    "    Aux = c*2.0/(np.sqrt(3.0)*a**2*q)\n",
    "    \n",
    "    return Aux*(6.0*peak_shape(q,nu,q0,delta)+6.0*peak_shape(q,nu,np.sqrt(3.0)*q0,delta)\\\n",
    "            +6.0*peak_shape(q,nu,2.0*q0,delta)+12.0*peak_shape(q,nu,np.sqrt(7.0)*q0,delta)\\\n",
    "            +6.0*peak_shape(q,nu,3.0*q0,delta))\n"
   ]
  },
  {
   "cell_type": "code",
   "execution_count": 24,
   "metadata": {},
   "outputs": [
    {
     "data": {
      "text/plain": [
       "'#plt.plot(q_selected, Z0_Q2(q_selected, 0.001, 0.065, 0.001, 1.0, 117.0), zorder = 1)\\nplt.plot(q_selected, Z0_Q(q_selected, 0.001, 0.065, 0.001, 1.0, 117.0), zorder = 10)\\n'"
      ]
     },
     "execution_count": 24,
     "metadata": {},
     "output_type": "execute_result"
    }
   ],
   "source": [
    "'''#plt.plot(q_selected, Z0_Q2(q_selected, 0.001, 0.065, 0.001, 1.0, 117.0), zorder = 1)\n",
    "plt.plot(q_selected, Z0_Q(q_selected, 0.001, 0.065, 0.001, 1.0, 117.0), zorder = 10)\n",
    "'''"
   ]
  },
  {
   "cell_type": "markdown",
   "metadata": {},
   "source": [
    "Now we have conditions to put all functions together. The theoretical scattered intensity presented earlier:\n",
    "$$\\frac{d\\sigma(q)}{d\\Omega}=(\\rho_1-\\rho_2)^2n_d [\\langle A(q)^2 \\rangle + \\langle A(q)\\rangle^2(\\langle Z(q) \\rangle-1)]$$ \n",
    "will become the fitting expression:\n",
    "$$\\frac{d\\sigma(q)}{d\\Omega}=sc\\cdot [\\langle A(q)^2 \\rangle + \\langle A(q)\\rangle^2(\\langle Z(q) \\rangle-1)] + back$$\n",
    "This will be called \"model 1\"."
   ]
  },
  {
   "cell_type": "code",
   "execution_count": 25,
   "metadata": {},
   "outputs": [],
   "source": [
    "def model1(q_value, R_core, T, B, sig_R_core, q0, nu, delta, c, sc, back):\n",
    "    L = 1000.0\n",
    "    sig_out = 3.0\n",
    "    sig_core = 2.0\n",
    "    a = 4.0*np.pi/(q0*np.sqrt(3.0))\n",
    "    \n",
    "    Pcyl = P_cyl_cs_approx_smear_poly(q_value, R_core, T, L, B, sig_out, sig_core, sig_R_core)\n",
    "    Acyl = A_cyl_cs_approx_smear_poly_squared(q_value, R_core, T, L, B, sig_out, sig_core, sig_R_core)\n",
    "    Z0 = Z0_Q (q_value, nu,q0,delta, c, a)\n",
    "    \n",
    "    return sc*(Pcyl+Acyl*(Z0-1.0))+back\n",
    "    #return Pcyl+Acyl*(Z0)\n",
    "    #return Pcyl*(1.0+(Acyl/Pcyl)*(Z0-1))\n",
    "\n",
    "def model1_values(q_values,R_core, T, B, sig_R_core, q0, nu, delta, c, sc, back):\n",
    "    values = []\n",
    "    for q in q_values:\n",
    "        values.append(model1(q, R_core, T, B, sig_R_core, q0, nu, delta, c, sc, back))\n",
    "    return np.asarray(values)"
   ]
  },
  {
   "cell_type": "code",
   "execution_count": 26,
   "metadata": {},
   "outputs": [],
   "source": [
    "#let's creat an array containing q values, in angstrons^-1\n",
    "q_theoretical = np.linspace(0.01, 0.6, num=1000)"
   ]
  },
  {
   "cell_type": "code",
   "execution_count": 28,
   "metadata": {
    "scrolled": true
   },
   "outputs": [
    {
     "data": {
      "text/plain": [
       "\"R_corep = 37.0\\nTp = 32.0\\nBp = 0.5\\nsig_R_corep = 1.0\\nq0p = 0.06\\nnup = 5.0\\ndeltap = 0.0006\\ncp = 1.0\\nscp = 1.0\\nbackp = 0.0\\n\\nLp = 1000.0\\nsig_outp = 3.0\\nsig_corep = 2.0\\n\\nplt.figure(figsize=(15, 4))\\n\\nplt.subplot(1, 2, 1) #a 1-row, 2-column figure: go to the first subplot.\\nplt.plot(q_selected, model1_values(q_selected, R_corep, Tp, Bp, sig_R_corep, q0p, nup, deltap, cp, scp, backp))\\nplt.plot(q_selected, P_cyl_cs_approx_smear_poly_values(q_selected, R_corep, Tp, Lp, Bp, sig_outp, sig_corep, sig_R_corep), '--')\\n#plt.plot(q_selected, A_cyl_cs_perp_smear_poly_squared_values(q_selected, R_corep, Tp, Lp, Bp, sig_outp, sig_corep, sig_R_corep))\\nplt.yscale('log')\\n\\nplt.subplot(1, 2, 2) #1-row, 2-column figure: go to the second subplot.\\nplt.plot(lognormal_graph(R_corep,sig_R_corep)[0],lognormal_graph(R_corep,sig_R_corep)[1]'\\n\""
      ]
     },
     "execution_count": 28,
     "metadata": {},
     "output_type": "execute_result"
    }
   ],
   "source": [
    "'''R_corep = 37.0\n",
    "Tp = 32.0\n",
    "Bp = 0.5\n",
    "sig_R_corep = 1.0\n",
    "q0p = 0.06\n",
    "nup = 5.0\n",
    "deltap = 0.0006\n",
    "cp = 1.0\n",
    "scp = 1.0\n",
    "backp = 0.0\n",
    "\n",
    "Lp = 1000.0\n",
    "sig_outp = 3.0\n",
    "sig_corep = 2.0\n",
    "\n",
    "plt.figure(figsize=(15, 4))\n",
    "\n",
    "plt.subplot(1, 2, 1) #a 1-row, 2-column figure: go to the first subplot.\n",
    "plt.plot(q_selected, model1_values(q_selected, R_corep, Tp, Bp, sig_R_corep, q0p, nup, deltap, cp, scp, backp))\n",
    "plt.plot(q_selected, P_cyl_cs_approx_smear_poly_values(q_selected, R_corep, Tp, Lp, Bp, sig_outp, sig_corep, sig_R_corep), '--')\n",
    "#plt.plot(q_selected, A_cyl_cs_perp_smear_poly_squared_values(q_selected, R_corep, Tp, Lp, Bp, sig_outp, sig_corep, sig_R_corep))\n",
    "plt.yscale('log')\n",
    "\n",
    "plt.subplot(1, 2, 2) #1-row, 2-column figure: go to the second subplot.\n",
    "plt.plot(lognormal_graph(R_corep,sig_R_corep)[0],lognormal_graph(R_corep,sig_R_corep)[1]'\n",
    "'''"
   ]
  },
  {
   "cell_type": "markdown",
   "metadata": {},
   "source": [
    "We can improve more the model. Firstly, by introducing a disorder parameter acting on the cylinder arrangement, like the Debye-Waller factor describing thermal vibrations in the crystals:\n",
    "\n",
    "$$G(q)=\\exp{(-\\sigma_a^2 a^2 q^2)}$$\n",
    "\n",
    "where $\\sigma_a^2$ is the relative mean square displacement of the cylinder positions, which will case the distortions in the lattice. Other improvement is related to polymer-like scattering contribution at high $q$ due to micelle polymer formation during the sinthesis. This contribution is given by:\n",
    "\n",
    "$$I_{chain}(q)=\\frac{2[\\exp{(-q^2R_g^2)}-1+(q^2R_g^2)]}{(q^2R_g^2)^2}$$\n",
    "\n",
    "where $R_g$ is the radius of gyration of the chain. So, the \"model 2\" is:\n",
    "\n",
    "$$\\frac{d\\sigma(q)}{d\\Omega}=sc1\\cdot [\\langle A(q)^2 \\rangle + \\langle A(q)\\rangle^2(\\langle Z(q) \\rangle-1)G(q)] + sc2\\cdot I_{chain}(q)+back$$\n"
   ]
  },
  {
   "cell_type": "code",
   "execution_count": 29,
   "metadata": {},
   "outputs": [],
   "source": [
    "def G_Q(sig_a, a, q):\n",
    "    #sig_a^2 is the relative mean square displacement that describes how the position of every stiff \n",
    "    #cylinder varies around its average position\n",
    "    \n",
    "    #a is the lattice parameter\n",
    "    return np.exp(-(sig_a*a*q)**2)\n",
    "\n",
    "def I_Q_chain(q,Rg):\n",
    "    Aux = (q*Rg)**2\n",
    "    return 2.0*(np.exp(-Aux)-1.0+Aux)/Aux**2\n",
    "\n",
    "def model2(q_value, R_core, T, B, sig_R_core, q0, nu, delta, c, sig_a, Rg, sc1, sc2, back):\n",
    "    L = 1000.0\n",
    "    sig_out = 3.0\n",
    "    sig_core = 2.0\n",
    "    a = 4.0*np.pi/(q0*np.sqrt(3.0))\n",
    "    \n",
    "    Pcyl = P_cyl_cs_approx_smear_poly(q_value, R_core, T, L, B, sig_out, sig_core, sig_R_core)\n",
    "    Acyl = A_cyl_cs_approx_smear_poly_squared(q_value, R_core, T, L, B, sig_out, sig_core, sig_R_core)\n",
    "    Z0 = Z0_Q (q_value, nu,q0,delta, c, a)\n",
    "    GQ = G_Q(sig_a, a, q_value)\n",
    "    Ichain = I_Q_chain(q_value,Rg)\n",
    "    \n",
    "    return sc1*(Pcyl+Acyl*(Z0-1.0)*GQ)+sc2*Ichain+back\n",
    "    #return Pcyl+Acyl*(Z0)\n",
    "    #return Pcyl*(1.0+(Acyl/Pcyl)*(Z0-1))\n",
    "\n",
    "def model2_values(q_values,R_core, T, B, sig_R_core, q0, nu, delta, c, sig_a, Rg, sc1, sc2, back):\n",
    "    values = []\n",
    "    for q in q_values:\n",
    "        values.append(model2(q, R_core, T, B, sig_R_core, q0, nu, delta, c, sig_a, Rg, sc1, sc2, back))\n",
    "    return np.asarray(values)"
   ]
  },
  {
   "cell_type": "code",
   "execution_count": 30,
   "metadata": {},
   "outputs": [
    {
     "data": {
      "text/plain": [
       "\"\\nR_corep = 37.0\\nTp = 32.0\\nBp = 0.0\\nsig_R_corep = 1.0\\nq0p = 0.0612\\nnup = 5.0\\ndeltap = 0.0006\\ncp = 1.0\\nsig_ap = 0.001\\nRgp = 60.0\\nsc1p = 1.0\\nsc2p = 0.0001\\nbackp = 0.0\\n\\nLp = 1000.0\\nsig_outp = 3.0\\nsig_corep = 2.0\\n\\nplt.figure(figsize=(15, 4))\\n\\nplt.subplot(1, 2, 1) #a 1-row, 2-column figure: go to the first subplot.\\nplt.plot(q_selected, model2_values(q_selected, R_corep, Tp, Bp, sig_R_corep, q0p, nup, deltap, cp, sig_ap, Rgp, sc1p, sc2p, backp))\\nplt.plot(q_selected, P_cyl_cs_approx_smear_poly_values(q_selected, R_corep, Tp, Lp, Bp, sig_outp, sig_corep, sig_R_corep), '--')\\n#plt.plot(q_selected, A_cyl_cs_perp_smear_poly_squared_values(q_selected, R_corep, Tp, Lp, Bp, sig_outp, sig_corep, sig_R_corep))\\nplt.yscale('log')\\nplt.xscale('log')\\n\\nplt.subplot(1, 2, 2) #1-row, 2-column figure: go to the second subplot.\\nplt.plot(lognormal_graph(R_corep,sig_R_corep)[0],lognormal_graph(R_corep,sig_R_corep)[1]'\\n\""
      ]
     },
     "execution_count": 30,
     "metadata": {},
     "output_type": "execute_result"
    }
   ],
   "source": [
    "'''\n",
    "R_corep = 37.0\n",
    "Tp = 32.0\n",
    "Bp = 0.0\n",
    "sig_R_corep = 1.0\n",
    "q0p = 0.0612\n",
    "nup = 5.0\n",
    "deltap = 0.0006\n",
    "cp = 1.0\n",
    "sig_ap = 0.001\n",
    "Rgp = 60.0\n",
    "sc1p = 1.0\n",
    "sc2p = 0.0001\n",
    "backp = 0.0\n",
    "\n",
    "Lp = 1000.0\n",
    "sig_outp = 3.0\n",
    "sig_corep = 2.0\n",
    "\n",
    "plt.figure(figsize=(15, 4))\n",
    "\n",
    "plt.subplot(1, 2, 1) #a 1-row, 2-column figure: go to the first subplot.\n",
    "plt.plot(q_selected, model2_values(q_selected, R_corep, Tp, Bp, sig_R_corep, q0p, nup, deltap, cp, sig_ap, Rgp, sc1p, sc2p, backp))\n",
    "plt.plot(q_selected, P_cyl_cs_approx_smear_poly_values(q_selected, R_corep, Tp, Lp, Bp, sig_outp, sig_corep, sig_R_corep), '--')\n",
    "#plt.plot(q_selected, A_cyl_cs_perp_smear_poly_squared_values(q_selected, R_corep, Tp, Lp, Bp, sig_outp, sig_corep, sig_R_corep))\n",
    "plt.yscale('log')\n",
    "plt.xscale('log')\n",
    "\n",
    "plt.subplot(1, 2, 2) #1-row, 2-column figure: go to the second subplot.\n",
    "plt.plot(lognormal_graph(R_corep,sig_R_corep)[0],lognormal_graph(R_corep,sig_R_corep)[1]'\n",
    "'''"
   ]
  },
  {
   "cell_type": "markdown",
   "metadata": {},
   "source": [
    "The final part of improvements is introduce smearing effects into the theoretical intensity $\\frac{d\\sigma(q)}{d\\Omega}$ through the resolution function $R(\\langle q \\rangle, q)$, where $q$ denotes the ideal $q$, and $\\langle q \\rangle$ the measured one. So, the expression to be compared to the experimental intensity is:\n",
    "\n",
    "$$I(\\langle q \\rangle)=\\int_{-\\infty}^{+\\infty}R(\\langle q \\rangle, q)\\cdot \\frac{d\\sigma(q)}{d\\Omega} dq$$\n",
    "\n",
    "Assuming a gaussian beam profile, $R(\\langle q \\rangle, q)$ is given by:\n",
    "\n",
    "$$R(\\langle q \\rangle, q)=\\frac{q}{\\sigma^2}\\cdot\\exp{\\left ( -\\frac{\\langle q \\rangle^2+q^2}{2\\sigma^2}\\right )}\\cdot I_0\\left ( \\frac{\\langle q \\rangle q}{\\sigma^2}\\right)$$\n",
    "\n",
    "being $I_0(x)$ the zeroth-order modified Bessel function of first kind.\n",
    "\n",
    "For $\\langle q \\rangle q >> \\sigma^2$, $I_0\\left ( \\frac{\\langle q \\rangle q}{\\sigma^2}\\right)\\approx \\frac{2\\pi\\langle q\\rangle q}{\\sigma^2}^{-1/2}\\exp\\left(\\frac{\\langle q \\rangle q}{\\sigma^2}\\right)$, which implies:\n",
    "\n",
    "$$R(\\langle q \\rangle, q)\\approx \\frac{\\sqrt{q}}{(2\\pi\\langle q\\rangle \\sigma^2)^{1/2}}\\exp\\left(-\\frac{(\\langle q \\rangle -q)^2}{2\\sigma^2}\\right)$$\n",
    "\n",
    "This last expression is easier to work out, and valid for all $q$ range in this study, since $\\sigma \\sim 0.001$, which implies $\\langle q \\rangle q >> \\sigma^2$."
   ]
  },
  {
   "cell_type": "code",
   "execution_count": 31,
   "metadata": {},
   "outputs": [],
   "source": [
    "#simpler resolution function, valid for q*x>>sig**2\n",
    "\n",
    "def Res_func(q,q_exp,sig):\n",
    "    sig2 = 2.0*sig**2\n",
    "    Aux = 1.0/np.sqrt(sig2*np.pi*q_exp)\n",
    "    \n",
    "    result = Aux*np.sqrt(q)*np.exp(-(q_exp-q)**2/sig2)\n",
    "    \n",
    "    return result\n",
    "\n",
    "def model2_res(q_value, R_core, T, B, sig_R_core, q0, nu, delta, c, sig_a, Rg, sc1, sc2, back):\n",
    "    sig = 0.002\n",
    "    \n",
    "    integrand = lambda q: Res_func(q,q_value,sig)*model2_values(q, R_core, T, B, sig_R_core, q0, nu, delta, c, sig_a, Rg, sc1, sc2, back)\n",
    "    \n",
    "    qmin = q_value - 4.0*sig \n",
    "    qmax = q_value + 4.0*sig\n",
    "    #print (qmin, qmax)\n",
    "    if qmin < 0:\n",
    "        qmin = 0.0\n",
    "        \n",
    "    return integration_1D(integrand, qmin, qmax, 20)\n",
    "\n",
    "def model2_res_values(q_values,R_core, T, B, sig_R_core, q0, nu, delta, c, sig_a, Rg, sc1, sc2, back):\n",
    "    values = []\n",
    "    for q in q_values:\n",
    "        values.append(model2_res(q, R_core, T, B, sig_R_core, q0, nu, delta, c, sig_a, Rg, sc1, sc2, back))\n",
    "    return np.asarray(values)"
   ]
  },
  {
   "cell_type": "code",
   "execution_count": 32,
   "metadata": {},
   "outputs": [
    {
     "data": {
      "text/plain": [
       "\"plt.figure(figsize=(15, 6))\\n\\nplt.subplot(1, 2, 1) #a 1-row, 2-column figure: go to the first subplot.\\nplt.plot(q_selected, model2_values(q_selected, R_corep, Tp, Bp, sig_R_corep, q0p, nup, deltap, cp, sig_ap, Rgp, sc1p, sc2p, backp))\\nplt.plot(q_selected, model2_res_values(q_selected, R_corep, Tp, Bp, sig_R_corep, q0p, nup, deltap, cp, sig_ap, Rgp, sc1p, sc2p, backp))\\n#plt.plot(q_selected, model2_values(q_selected, R_corep, Tp, Bp, sig_R_corep, q0p, nup, 0.0025, cp, sig_ap, Rgp, sc1p, sc2p, backp))\\n#plt.plot(q_selected, A_cyl_cs_perp_smear_poly_squared_values(q_selected, R_corep, Tp, Lp, Bp, sig_outp, sig_corep, sig_R_corep))\\nplt.yscale('log')\\nplt.xscale('log')\\n\\nplt.subplot(1, 2, 2) #1-row, 2-column figure: go to the second subplot.\\nplt.plot(lognormal_graph(R_corep,sig_R_corep)[0],lognormal_graph(R_corep,sig_R_corep)[1])\\n\\n#%timeit (model2_res_values(q_selected, R_corep, Tp, Bp, sig_R_corep, q0p, nup, deltap, cp, sig_ap, Rgp, sc1p, sc2p, backp))\\n\""
      ]
     },
     "execution_count": 32,
     "metadata": {},
     "output_type": "execute_result"
    }
   ],
   "source": [
    "'''plt.figure(figsize=(15, 6))\n",
    "\n",
    "plt.subplot(1, 2, 1) #a 1-row, 2-column figure: go to the first subplot.\n",
    "plt.plot(q_selected, model2_values(q_selected, R_corep, Tp, Bp, sig_R_corep, q0p, nup, deltap, cp, sig_ap, Rgp, sc1p, sc2p, backp))\n",
    "plt.plot(q_selected, model2_res_values(q_selected, R_corep, Tp, Bp, sig_R_corep, q0p, nup, deltap, cp, sig_ap, Rgp, sc1p, sc2p, backp))\n",
    "#plt.plot(q_selected, model2_values(q_selected, R_corep, Tp, Bp, sig_R_corep, q0p, nup, 0.0025, cp, sig_ap, Rgp, sc1p, sc2p, backp))\n",
    "#plt.plot(q_selected, A_cyl_cs_perp_smear_poly_squared_values(q_selected, R_corep, Tp, Lp, Bp, sig_outp, sig_corep, sig_R_corep))\n",
    "plt.yscale('log')\n",
    "plt.xscale('log')\n",
    "\n",
    "plt.subplot(1, 2, 2) #1-row, 2-column figure: go to the second subplot.\n",
    "plt.plot(lognormal_graph(R_corep,sig_R_corep)[0],lognormal_graph(R_corep,sig_R_corep)[1])\n",
    "\n",
    "#%timeit (model2_res_values(q_selected, R_corep, Tp, Bp, sig_R_corep, q0p, nup, deltap, cp, sig_ap, Rgp, sc1p, sc2p, backp))\n",
    "'''"
   ]
  },
  {
   "cell_type": "markdown",
   "metadata": {},
   "source": [
    "The method **model2_res_values** is very slow. It takes approximately 8s to work with 367 $q$ values. We must change its code in order to make it faster. Probably, most of the problem is the double for needed since we are using the method **model2_values** twice: first, in the **model2_res**, and second, in the **model2_res_values**. This is because **model2** can not handle with an array entry, and integration_1D demands this. So, instead change integration_1D, which is efficient and fast, because it does not use while or for, we can focus on **model2** method."
   ]
  },
  {
   "cell_type": "code",
   "execution_count": 33,
   "metadata": {},
   "outputs": [],
   "source": [
    "def model22(q_values, R_core, T, B, sig_R_core, q0, nu, delta, c, sig_a, Rg, sc1, sc2, back):\n",
    "    L = 1000.0\n",
    "    sig_out = 3.0\n",
    "    sig_core = 2.0\n",
    "    a = 4.0*np.pi/(q0*np.sqrt(3.0))\n",
    "    \n",
    "    Pcyl = P_cyl_cs_approx_smear_poly_values2(q_values, R_core, T, L, B, sig_out, sig_core, sig_R_core)\n",
    "    Acyl = A_cyl_cs_approx_smear_poly_squared_values2(q_values, R_core, T, L, B, sig_out, sig_core, sig_R_core)\n",
    "    Z0 = Z0_Q(q_values, nu,q0,delta, c, a)\n",
    "    GQ = G_Q(sig_a, a, q_values)\n",
    "    Ichain = I_Q_chain(q_values,Rg)\n",
    "    return sc1*(Pcyl+Acyl*(Z0-1.0)*GQ)+sc2*Ichain+back\n",
    "\n",
    "def model22_fixed_nu_Rg(q_values, R_core, T, B, sig_R_core, q0, delta, c, sig_a, sc1, sc2, back):\n",
    "    nu = 0.01\n",
    "    Rg = 50.0\n",
    "    L = 1000.0\n",
    "    sig_out = 3.0\n",
    "    sig_core = 2.0\n",
    "    a = 4.0*np.pi/(q0*np.sqrt(3.0))\n",
    "    \n",
    "    Pcyl = P_cyl_cs_approx_smear_poly_values2(q_values, R_core, T, L, B, sig_out, sig_core, sig_R_core)\n",
    "    Acyl = A_cyl_cs_approx_smear_poly_squared_values2(q_values, R_core, T, L, B, sig_out, sig_core, sig_R_core)\n",
    "    Z0 = Z0_Q(q_values, nu,q0,delta, c, a)\n",
    "    GQ = G_Q(sig_a, a, q_values)\n",
    "    Ichain = I_Q_chain(q_values,Rg)\n",
    "    return sc1*(Pcyl+Acyl*(Z0-1.0)*GQ)+sc2*Ichain+back\n",
    "\n",
    "def model22_res(q_value, R_core, T, B, sig_R_core, q0, nu, delta, c, sig_a, Rg, sc1, sc2, back):\n",
    "    sig = 0.002\n",
    "    \n",
    "    integrand = lambda q: Res_func(q,q_value,sig)*model22(q, R_core, T, B, sig_R_core, q0, nu, delta, c, sig_a, Rg, sc1, sc2, back)\n",
    "    \n",
    "    qmin = q_value - 4.0*sig \n",
    "    qmax = q_value + 4.0*sig\n",
    "    #print (qmin, qmax)\n",
    "    if qmin < 0:\n",
    "        qmin = 0.0\n",
    "        \n",
    "    return integration_1D(integrand, qmin, qmax, 20)\n",
    "\n",
    "def model22_res_values(q_values,R_core, T, B, sig_R_core, q0, nu, delta, c, sig_a, Rg, sc1, sc2, back):\n",
    "    values = []\n",
    "    for q in q_values:\n",
    "        values.append(model22_res(q, R_core, T, B, sig_R_core, q0, nu, delta, c, sig_a, Rg, sc1, sc2, back))\n",
    "    return np.asarray(values)"
   ]
  },
  {
   "cell_type": "code",
   "execution_count": 34,
   "metadata": {},
   "outputs": [],
   "source": [
    "#%timeit (model22_res_values(q_selected, R_corep, Tp, Bp, sig_R_corep, q0p, nup, deltap, cp, sig_ap, Rgp, sc1p, sc2p, backp))"
   ]
  },
  {
   "cell_type": "code",
   "execution_count": 35,
   "metadata": {},
   "outputs": [],
   "source": [
    "#%timeit (model22(q_selected, R_corep, Tp, Bp, sig_R_corep, q0p, nup, deltap, cp, sig_ap, Rgp, sc1p, sc2p, backp))\n",
    "#%timeit (model2_values(q_selected, R_corep, Tp, Bp, sig_R_corep, q0p, nup, deltap, cp, sig_ap, Rgp, sc1p, sc2p, backp))"
   ]
  },
  {
   "cell_type": "code",
   "execution_count": 37,
   "metadata": {},
   "outputs": [
    {
     "data": {
      "text/plain": [
       "\"plt.figure(figsize=(15, 6))\\n\\nplt.subplot(1, 2, 1) #a 1-row, 2-column figure: go to the first subplot.\\nplt.plot(q_selected, model22_res_values(q_selected, R_corep, Tp, Bp, sig_R_corep, q0p, nup, deltap, cp, sig_ap, Rgp, sc1p, sc2p, backp))\\nplt.plot(q_selected, model2_res_values(q_selected, R_corep, Tp, Bp, sig_R_corep, q0p, nup, deltap, cp, sig_ap, Rgp, sc1p, sc2p, backp))\\n#plt.plot(q_selected, model2_values(q_selected, R_corep, Tp, Bp, sig_R_corep, q0p, nup, 0.0025, cp, sig_ap, Rgp, sc1p, sc2p, backp))\\n#plt.plot(q_selected, A_cyl_cs_perp_smear_poly_squared_values(q_selected, R_corep, Tp, Lp, Bp, sig_outp, sig_corep, sig_R_corep))\\nplt.yscale('log')\\nplt.xscale('log')\\n\\nplt.subplot(1, 2, 2) #1-row, 2-column figure: go to the second subplot.\\nplt.plot(lognormal_graph(R_corep,sig_R_corep)[0],lognormal_graph(R_corep,sig_R_corep)[1])\\n\""
      ]
     },
     "execution_count": 37,
     "metadata": {},
     "output_type": "execute_result"
    }
   ],
   "source": [
    "'''plt.figure(figsize=(15, 6))\n",
    "\n",
    "plt.subplot(1, 2, 1) #a 1-row, 2-column figure: go to the first subplot.\n",
    "plt.plot(q_selected, model22_res_values(q_selected, R_corep, Tp, Bp, sig_R_corep, q0p, nup, deltap, cp, sig_ap, Rgp, sc1p, sc2p, backp))\n",
    "plt.plot(q_selected, model2_res_values(q_selected, R_corep, Tp, Bp, sig_R_corep, q0p, nup, deltap, cp, sig_ap, Rgp, sc1p, sc2p, backp))\n",
    "#plt.plot(q_selected, model2_values(q_selected, R_corep, Tp, Bp, sig_R_corep, q0p, nup, 0.0025, cp, sig_ap, Rgp, sc1p, sc2p, backp))\n",
    "#plt.plot(q_selected, A_cyl_cs_perp_smear_poly_squared_values(q_selected, R_corep, Tp, Lp, Bp, sig_outp, sig_corep, sig_R_corep))\n",
    "plt.yscale('log')\n",
    "plt.xscale('log')\n",
    "\n",
    "plt.subplot(1, 2, 2) #1-row, 2-column figure: go to the second subplot.\n",
    "plt.plot(lognormal_graph(R_corep,sig_R_corep)[0],lognormal_graph(R_corep,sig_R_corep)[1])\n",
    "'''"
   ]
  },
  {
   "cell_type": "code",
   "execution_count": 38,
   "metadata": {},
   "outputs": [],
   "source": [
    "#vamos gerar uma matriz de resolucao, para tentar reduzir o tempo de calculo\n",
    "\n",
    "#function that provide NFOLD resoluction values for RESO function\n",
    "def FMODELP_gen_pedro(q_value, sig, NFOLD):\n",
    "    #params is a array containing the model parameters\n",
    "    #N_convolutions\n",
    "    #NFOLD = 25\n",
    "    Dx=8.0*sig/float(NFOLD)\n",
    "    xmin=q_value-4.0*sig\n",
    "    xmax=q_value+4.0*sig\n",
    "    if(xmin < 0.0):\n",
    "        xmin=0.0\n",
    "    xi = np.linspace(xmin+0.5*Dx, xmax-0.5*Dx, NFOLD)\n",
    "    FF = Res_func(xi,q_value,sig)*Dx\n",
    "\n",
    "    return FF, xi\n",
    "\n",
    "\n",
    "def RESO_Pedro(q_values, sig, NFOLD):\n",
    "    #q_values is a array containing the q values\n",
    "    #NFOLD is the number of convolutions\n",
    "\n",
    "    #number_of_rows = len(q_values)\n",
    "    #number_of_elements_each_row = NFOLD \n",
    "    \n",
    "    #Rij = np.zeros((number_of_rows,number_of_elements_each_row))\n",
    "    #Rij = np.zeros(len(q_values))\n",
    "    Rij = []\n",
    "    xij = []\n",
    "    #qij = np.zeros((number_of_rows,number_of_elements_each_row))\n",
    "    #FF = np.zeros(len(q_values))\n",
    "    \n",
    "    for q in q_values:\n",
    "        Rij.append(FMODELP_gen_pedro(q, sig, NFOLD)[0])\n",
    "        xij.append(FMODELP_gen_pedro(q, sig, NFOLD)[1])\n",
    "    return Rij, xij\n",
    "\n",
    "Resolution = RESO_Pedro(q_filtered3, 0.002, 20)\n",
    "\n",
    "def FSMEARED(q_values, *parameters):\n",
    "    #params is a array containing the model parameters\n",
    "    #sig = 0.002\n",
    "    #NFOLD = 18\n",
    "    #Resolution = RESO_Pedro(q_values, sig, NFOLD)\n",
    "    \n",
    "    SUM_tot = []\n",
    "   \n",
    "    for j in range(len(q_values)):\n",
    "        FF = Resolution[0][j]\n",
    "        Q = Resolution[1][j]\n",
    "        SUM = sum(model22(Q, *parameters)*FF)\n",
    "        SUM_tot.append(SUM)\n",
    "    \n",
    "    return np.asarray(SUM_tot)\n",
    "\n",
    "def FSMEARED2(q_values, *parameters):\n",
    "    #params is a array containing the model parameters\n",
    "    #sig = 0.002\n",
    "    #NFOLD = 18\n",
    "    #Resolution = RESO_Pedro(q_values, sig, NFOLD)\n",
    "    \n",
    "    SUM_tot = []\n",
    "   \n",
    "    for j in range(len(q_values)):\n",
    "        FF = Resolution[0][j]\n",
    "        Q = Resolution[1][j]\n",
    "        SUM = sum(model22_fixed_nu_Rg(Q, *parameters)*FF)\n",
    "        SUM_tot.append(SUM)\n",
    "    \n",
    "    return np.asarray(SUM_tot)"
   ]
  },
  {
   "cell_type": "markdown",
   "metadata": {},
   "source": [
    "# Simulations"
   ]
  },
  {
   "cell_type": "code",
   "execution_count": 40,
   "metadata": {},
   "outputs": [
    {
     "data": {
      "text/plain": [
       "'param0 = (R_corep, Tp, Bp, sig_R_corep, q0p, deltap, cp, sig_ap, sc1p, sc2p, backp)\\nlowerbound = (20.0, 5.0, -10.0, 1.0e-2*sig_R_corep, 0.8*q0p, 0.000000001,0.01, 1.0e-5*sig_ap, 1.0e-5*sc1p, 1.0e-5*sc2p, -10.0)\\nupperbound = (100.0, 100.0, 10.0, 1.0e+2*sig_R_corep, 1.2*q0p, 1000.0,100.0, 1.0e+5*sig_ap, 1.0e+5*sc1p, 1.0e+5*sc2p, 10.0)'"
      ]
     },
     "execution_count": 40,
     "metadata": {},
     "output_type": "execute_result"
    }
   ],
   "source": [
    "'''param0 = (R_corep, Tp, Bp, sig_R_corep, q0p, deltap, cp, sig_ap, sc1p, sc2p, backp)\n",
    "lowerbound = (20.0, 5.0, -10.0, 1.0e-2*sig_R_corep, 0.8*q0p, 0.000000001,0.01, 1.0e-5*sig_ap, 1.0e-5*sc1p, 1.0e-5*sc2p, -10.0)\n",
    "upperbound = (100.0, 100.0, 10.0, 1.0e+2*sig_R_corep, 1.2*q0p, 1000.0,100.0, 1.0e+5*sig_ap, 1.0e+5*sc1p, 1.0e+5*sc2p, 10.0)'''"
   ]
  },
  {
   "cell_type": "code",
   "execution_count": 41,
   "metadata": {
    "scrolled": true
   },
   "outputs": [
    {
     "data": {
      "text/plain": [
       "'start = timer()\\npopt, pcov = curve_fit(FSMEARED2, q_filtered3, I_filtered3, sigma = errI_filtered3, p0 = param0, bounds = (lowerbound,upperbound), absolute_sigma=True, maxfev = 100000)\\nend = timer()\\nprint(end-start)\\nallDone()'"
      ]
     },
     "execution_count": 41,
     "metadata": {},
     "output_type": "execute_result"
    }
   ],
   "source": [
    "'''start = timer()\n",
    "popt, pcov = curve_fit(FSMEARED2, q_filtered3, I_filtered3, sigma = errI_filtered3, p0 = param0, bounds = (lowerbound,upperbound), absolute_sigma=True, maxfev = 100000)\n",
    "end = timer()\n",
    "print(end-start)\n",
    "allDone()'''"
   ]
  },
  {
   "cell_type": "code",
   "execution_count": 42,
   "metadata": {},
   "outputs": [
    {
     "data": {
      "text/plain": [
       "'R_corepr, Tpr, Bpr, sig_R_corepr, q0pr,deltapr, cpr, sig_apr, sc1pr, sc2pr, backpr = popt\\n\\nplt.figure(figsize=(10, 5))\\nplt.errorbar(q_selected,I_selected,yerr=errI_selected, fmt=\\'ko\\', zorder = 1)\\n#plt.plot(q_selected, 100000*A_cyl_cs_approx_smear_poly_squared_values2(q_selected, R_corepr, Tpr, Lp, Bpr, sig_outp, sig_corep, sig_R_corepr), \\'--\\')\\n#plt.plot(q_filtered3,FSMEARED(q_filtered3, *popt), zorder = 10)\\nplt.plot(q_filtered3, FSMEARED2(q_filtered3, *popt))\\n\\n#Derived Chi Squared Value For This Model\\nchi_squared = np.sum(((FSMEARED2(q_filtered3, *popt)-I_filtered3)/errI_filtered3)**2)\\nreduced_chi_squared = (chi_squared)/(len(q_filtered3)-len(popt))\\n#print (\\'The degrees of freedom for this test is\\', len(q_selected)-len(popt))\\n#print (\\'The chi squared value is: \\',(\"%.2f\" %chi_squared))\\nprint (\\'The reduced chi squared value is: \\',(\"%.2f\" %reduced_chi_squared))\\n\\n\\n#plt.xscale(\\'log\\')\\nplt.yscale(\\'log\\')\\n#plt.legend()\\n'"
      ]
     },
     "execution_count": 42,
     "metadata": {},
     "output_type": "execute_result"
    }
   ],
   "source": [
    "'''R_corepr, Tpr, Bpr, sig_R_corepr, q0pr,deltapr, cpr, sig_apr, sc1pr, sc2pr, backpr = popt\n",
    "\n",
    "plt.figure(figsize=(10, 5))\n",
    "plt.errorbar(q_selected,I_selected,yerr=errI_selected, fmt='ko', zorder = 1)\n",
    "#plt.plot(q_selected, 100000*A_cyl_cs_approx_smear_poly_squared_values2(q_selected, R_corepr, Tpr, Lp, Bpr, sig_outp, sig_corep, sig_R_corepr), '--')\n",
    "#plt.plot(q_filtered3,FSMEARED(q_filtered3, *popt), zorder = 10)\n",
    "plt.plot(q_filtered3, FSMEARED2(q_filtered3, *popt))\n",
    "\n",
    "#Derived Chi Squared Value For This Model\n",
    "chi_squared = np.sum(((FSMEARED2(q_filtered3, *popt)-I_filtered3)/errI_filtered3)**2)\n",
    "reduced_chi_squared = (chi_squared)/(len(q_filtered3)-len(popt))\n",
    "#print ('The degrees of freedom for this test is', len(q_selected)-len(popt))\n",
    "#print ('The chi squared value is: ',(\"%.2f\" %chi_squared))\n",
    "print ('The reduced chi squared value is: ',(\"%.2f\" %reduced_chi_squared))\n",
    "\n",
    "\n",
    "#plt.xscale('log')\n",
    "plt.yscale('log')\n",
    "#plt.legend()\n",
    "'''"
   ]
  },
  {
   "cell_type": "markdown",
   "metadata": {},
   "source": [
    "# SIMULATION CURVE - WITHOUT SMEARING"
   ]
  },
  {
   "cell_type": "code",
   "execution_count": 43,
   "metadata": {},
   "outputs": [],
   "source": [
    "#pseudoVoigt peak function = linear combination between gaussian and lorentizian functions\n",
    "\n",
    "def pseudoVoigt(q_value, q0, I, gamma, eta):\n",
    "    ln2 = np.log(2.0)\n",
    "    pi = np.pi\n",
    "    delta2 = (q_value - q0)**2\n",
    "    Aux = gamma/2.0\n",
    "    \n",
    "    a_G = np.sqrt(ln2/pi)/Aux\n",
    "    b_G = ln2/(Aux)**2\n",
    "    \n",
    "    gauss = a_G*np.exp(-b_G*delta2)\n",
    "    \n",
    "    lorentz = (Aux/pi)/(delta2+(Aux)**2)\n",
    "    \n",
    "    return I*(eta*gauss+(1.0-eta)*lorentz)\n",
    "\n",
    "def pseudoVoigt_no_I(q_value, q0, gamma, eta):\n",
    "    ln2 = np.log(2.0)\n",
    "    pi = np.pi\n",
    "    delta2 = (q_value - q0)**2\n",
    "    Aux = gamma/2.0\n",
    "    \n",
    "    a_G = np.sqrt(ln2/pi)/Aux\n",
    "    b_G = ln2/(Aux)**2\n",
    "    \n",
    "    gauss = a_G*np.exp(-b_G*delta2)\n",
    "    \n",
    "    lorentz = (Aux/pi)/(delta2+(Aux)**2)\n",
    "    \n",
    "    return eta*gauss+(1.0-eta)*lorentz"
   ]
  },
  {
   "cell_type": "code",
   "execution_count": 44,
   "metadata": {},
   "outputs": [],
   "source": [
    "#Z0 function with pseudoVoigt function with no I (peak intensity)\n",
    "def Z0_Q_pV (q_value, q0,gamma, eta, c, a):\n",
    "    Aux = c*2.0/(np.sqrt(3.0)*a**2*q_value)\n",
    "    \n",
    "    return Aux*(6.0*pseudoVoigt_no_I(q_value, q0, gamma, eta)+6.0*pseudoVoigt_no_I(q_value, np.sqrt(3.0)*q0, gamma, eta)\\\n",
    "            +6.0*pseudoVoigt_no_I(q_value, 2.0*q0, gamma, eta)+12.0*pseudoVoigt_no_I(q_value, np.sqrt(7.0)*q0, gamma, eta)\\\n",
    "            +6.0*pseudoVoigt_no_I(q_value, 3.0*q0, gamma, eta))\n",
    "\n",
    "#model22 with pseudoVoigt peak function, without I (peak intensity)\n",
    "def model222(q_values, R_core, T, B, sig_R_core, q0, gamma, eta, c, sig_a, Rg, sc1, sc2, back):\n",
    "    L = 1000.0\n",
    "    sig_out = 3.0\n",
    "    sig_core = 2.0\n",
    "    a = 4.0*np.pi/(q0*np.sqrt(3.0))\n",
    "    \n",
    "    Pcyl = P_cyl_cs_approx_smear_poly_values2(q_values, R_core, T, L, B, sig_out, sig_core, sig_R_core)\n",
    "    Acyl = A_cyl_cs_approx_smear_poly_squared_values2(q_values, R_core, T, L, B, sig_out, sig_core, sig_R_core)\n",
    "    Z0 = Z0_Q_pV (q_values, q0,gamma, eta, c, a)\n",
    "    GQ = G_Q(sig_a, a, q_values)\n",
    "    Ichain = I_Q_chain(q_values,Rg)\n",
    "    return sc1*(Pcyl+Acyl*(Z0-1.0)*GQ)+sc2*Ichain+back\n",
    "\n",
    "\n",
    "\n",
    "#model222 with no sig_R_core and sig_a parameters\n",
    "def model2222(q_values, R_core, T, B, q0, gamma, eta, c, Rg, sc1, sc2, back):\n",
    "    L = 1000.0\n",
    "    sig_out = 3.0\n",
    "    sig_core = 2.0\n",
    "    a = 4.0*np.pi/(q0*np.sqrt(3.0))\n",
    "    sig_R_core = 1.0\n",
    "    sig_a = 0.01\n",
    "    \n",
    "    Pcyl = P_cyl_cs_approx_smear_poly_values2(q_values, R_core, T, L, B, sig_out, sig_core, sig_R_core)\n",
    "    Acyl = A_cyl_cs_approx_smear_poly_squared_values2(q_values, R_core, T, L, B, sig_out, sig_core, sig_R_core)\n",
    "    Z0 = Z0_Q_pV (q_values, q0,gamma, eta, c, a)\n",
    "    GQ = G_Q(sig_a, a, q_values)\n",
    "    Ichain = I_Q_chain(q_values,Rg)\n",
    "    return sc1*(Pcyl+Acyl*(Z0-1.0)*GQ)+sc2*Ichain+back\n",
    "\n",
    "def Structure_Factor(q_values, R_core, T, B, q0, gamma, eta, c, Rg, sc1, sc2, back):\n",
    "    L = 1000.0\n",
    "    sig_out = 3.0\n",
    "    sig_core = 2.0\n",
    "    a = 4.0*np.pi/(q0*np.sqrt(3.0))\n",
    "    sig_R_core = 1.0\n",
    "    sig_a = 0.01\n",
    "    \n",
    "    Pcyl = P_cyl_cs_approx_smear_poly_values2(q_values, R_core, T, L, B, sig_out, sig_core, sig_R_core)\n",
    "    Acyl = A_cyl_cs_approx_smear_poly_squared_values2(q_values, R_core, T, L, B, sig_out, sig_core, sig_R_core)\n",
    "    Z0 = Z0_Q_pV (q_values, q0,gamma, eta, c, a)\n",
    "    GQ = G_Q(sig_a, a, q_values)\n",
    "    Ichain = I_Q_chain(q_values,Rg)\n",
    "    #return sc1*Pcyl*(1.0+(Acyl/Pcyl)*(Z0-1.0)*GQ)+sc2*Ichain+back\n",
    "    return 1.0+(Acyl/Pcyl)*(Z0-1.0)*GQ"
   ]
  },
  {
   "cell_type": "code",
   "execution_count": 46,
   "metadata": {},
   "outputs": [
    {
     "data": {
      "text/plain": [
       "[<matplotlib.lines.Line2D at 0x1515f125d0>]"
      ]
     },
     "execution_count": 46,
     "metadata": {},
     "output_type": "execute_result"
    },
    {
     "data": {
      "image/png": "[encoded data removed]",
      "text/plain": [
       "<Figure size 1080x288 with 2 Axes>"
      ]
     },
     "metadata": {
      "needs_background": "light"
     },
     "output_type": "display_data"
    }
   ],
   "source": [
    "R_corep = 42.0\n",
    "Tp = 33.0\n",
    "Bp = 0.9\n",
    "sig_R_corep = 1.0\n",
    "q0p = 0.0612\n",
    "gammap = 0.003\n",
    "eta = 0.56\n",
    "cp = 1.0\n",
    "sig_ap = 0.001\n",
    "Rgp = 60.0\n",
    "sc1p = 90000.0\n",
    "sc2p = 70.0\n",
    "backp = -0.2\n",
    "\n",
    "Lp = 1000.0\n",
    "sig_outp = 3.0\n",
    "sig_corep = 2.0\n",
    "\n",
    "plt.figure(figsize=(15, 4))\n",
    "\n",
    "plt.subplot(1, 2, 1) #a 1-row, 2-column figure: go to the first subplot.\n",
    "plt.plot(q_selected, I_selected, 'o')\n",
    "plt.plot(q_selected, model2222(q_selected, R_corep, Tp, Bp, q0p, gammap, eta, cp, Rgp, sc1p, sc2p, backp))\n",
    "plt.plot(q_selected, 100000*A_cyl_cs_approx_smear_poly_squared_values2(q_selected, R_corep, Tp, Lp, Bp, sig_outp, sig_corep, sig_R_corep), '--')\n",
    "plt.plot(q_selected, 100000*P_cyl_cs_approx_smear_poly_values2(q_selected, R_corep, Tp, Lp, Bp, sig_outp, sig_corep, sig_R_corep), '--')\n",
    "plt.yscale('log')\n",
    "#plt.xscale('log')\n",
    "\n",
    "plt.subplot(1, 2, 2) #1-row, 2-column figure: go to the second subplot.\n",
    "plt.plot(lognormal_graph(R_corep,sig_R_corep)[0],lognormal_graph(R_corep,sig_R_corep)[1])"
   ]
  },
  {
   "cell_type": "code",
   "execution_count": 47,
   "metadata": {},
   "outputs": [],
   "source": [
    "param0 = (R_corep, Tp, Bp, q0p, gammap, eta, cp, Rgp, sc1p, sc2p, backp)\n",
    "lowerbound = (0.9*R_corep,0.9*Tp, 0.89, 0.8*q0p, 0.00000001, 0.55,0.5, 10.0, 1.0e-5*sc1p, 1.0e-5*sc2p, -10.0)\n",
    "upperbound = (1.1*R_corep, 1.1*Tp, 1.0, 1.2*q0p, 10.0, 0.57,100.0, 100.0, 1.0e+5*sc1p, 1.0e+5*sc2p, 10.0)"
   ]
  },
  {
   "cell_type": "code",
   "execution_count": 49,
   "metadata": {},
   "outputs": [
    {
     "name": "stdout",
     "output_type": "stream",
     "text": [
      "22.15073599499999\n"
     ]
    },
    {
     "data": {
      "text/html": [
       "\n",
       "                <audio  controls=\"controls\" autoplay=\"autoplay\">\n",
       "                    <source src=\"https://sound.peal.io/ps/audios/000/000/537/original/woo_vu_luvub_dub_dub.wav\" type=\"audio/x-wav\" />\n",
       "                    Your browser does not support the audio element.\n",
       "                </audio>\n",
       "              "
      ],
      "text/plain": [
       "<IPython.lib.display.Audio object>"
      ]
     },
     "metadata": {},
     "output_type": "display_data"
    }
   ],
   "source": [
    "start = timer()\n",
    "popt, pcov = curve_fit(model2222, q_selected, I_selected, sigma = errI_selected, p0 = param0, bounds = (lowerbound,upperbound), absolute_sigma=True, maxfev = 100000)\n",
    "end = timer()\n",
    "print(end-start)\n",
    "allDone()"
   ]
  },
  {
   "cell_type": "code",
   "execution_count": 53,
   "metadata": {},
   "outputs": [
    {
     "data": {
      "image/png": "[encoded data removed]",
      "text/plain": [
       "<Figure size 720x360 with 1 Axes>"
      ]
     },
     "metadata": {
      "needs_background": "light"
     },
     "output_type": "display_data"
    },
    {
     "name": "stdout",
     "output_type": "stream",
     "text": [
      "Parameter ,  Value ,  Error\n",
      "******************************************\n",
      "R_core ,     44.5391 ,      0.0336\n",
      "T ,     29.7000 ,      0.0316\n",
      "B ,      1.0000 ,      0.0020\n",
      "sig_R_core ,  1.0 ,   fixed\n",
      "q0 ,      0.0611 ,      0.0000\n",
      "gamma ,      0.0037 ,      0.0000\n",
      "eta ,      0.5500 ,      0.0046\n",
      "c ,      0.5000 ,      0.0059\n",
      "sig_a ,  0.001 ,  fixed\n",
      "Rg ,     25.7102 ,      0.0182\n",
      "sc1 ,  129300.4262 ,    894.9116\n",
      "sc2 ,     21.3784 ,      0.0148\n",
      "back ,     -0.4857 ,      0.0008\n",
      "******************************************\n"
     ]
    }
   ],
   "source": [
    "R_corer, Tr, Br, q0r, gammar, etar, cr, Rgr, sc1r, sc2r, backr = popt\n",
    "errR_corer, errTr, errBr, errq0r, errgammar, erretar, errcr, errRgr, errsc1r, errsc2r, errbackr = np.sqrt(np.diag(pcov))\n",
    "#sigpopt = np.sqrt(np.diag(pcov)\n",
    "\n",
    "bound_upper = model2222(q_selected, *(popt - np.sqrt(np.diag(pcov))))\n",
    "bound_lower = model2222(q_selected, *(popt + np.sqrt(np.diag(pcov))))\n",
    "\n",
    "#Derived Chi Squared Value For This Model\n",
    "chi_squared = np.sum(((model2222(q_selected, *popt)-I_selected)/errI_selected)**2)\n",
    "reduced_chi_squared = (chi_squared)/(len(q_selected)-len(popt))\n",
    "#print ('The degrees of freedom for this test is', len(q_selected)-len(popt))\n",
    "#print ('The chi squared value is: ',(\"%.2f\" %chi_squared))\n",
    "#print ('The reduced chi squared value is: ',(\"%.2f\" %reduced_chi_squared))\n",
    "\n",
    "plt.figure(figsize=(10, 5))\n",
    "plt.errorbar(q_selected,I_selected,yerr=errI_selected, fmt='ko', zorder = 5, label = 'data')\n",
    "#plt.plot(q_selected, 100000*A_cyl_cs_approx_smear_poly_squared_values2(q_selected, R_corepr, Tpr, Lp, Bpr, sig_outp, sig_corep, 1.0), '--', zorder = 0, label = '')\n",
    "plt.plot(q_selected, 100000*P_cyl_cs_approx_smear_poly_values2(q_selected, R_corer, Tr, Lp, Br, sig_outp, sig_corep, 1.0), '--', zorder = 1, label = 'PQ')\n",
    "plt.plot(q_selected, Structure_Factor(q_selected, *popt), '--', zorder = 1, label = 'SQ')\n",
    "#plt.plot(q_filtered3,FSMEARED(q_filtered3, *popt), zorder = 10)\n",
    "plt.plot(q_selected, model2222(q_selected, *popt), 'r', zorder = 10, label = 'fitting')\n",
    "                  \n",
    "# plotting the confidence intervals\n",
    "plt.fill_between(q_selected, bound_lower, bound_upper, color = 'green')\n",
    "\n",
    "plt.xlabel('q$[\\AA^{-1}]$', fontsize=24)\n",
    "plt.ylabel('I(q) [arb.u]', fontsize=24)\n",
    "plt.title(file_name+',' + '$\\chi^2_r = $'+ str(round(reduced_chi_squared, 2)))\n",
    "\n",
    "\n",
    "\n",
    "\n",
    "#plt.xscale('log')\n",
    "plt.yscale('log')\n",
    "plt.legend()\n",
    "\n",
    "plt.tight_layout()\n",
    "\n",
    "\n",
    "figure_name_plus_extension = source_directory_results + file_name + '.pdf'\n",
    "\n",
    "plt.savefig(figure_name_plus_extension, bbox_inches='tight')\n",
    "plt.show()\n",
    "\n",
    "\n",
    "#printing fitting results\n",
    "print('Parameter', ', ', 'Value', ', ', 'Error')\n",
    "print('******************************************')\n",
    "print('R_core', ', ', \"{:10.4f}\".format(R_corer), ', ', \"{:10.4f}\".format(errR_corer))\n",
    "print('T', ', ', \"{:10.4f}\".format(Tr), ', ', \"{:10.4f}\".format(errTr))\n",
    "print('B', ', ', \"{:10.4f}\".format(Br), ', ', \"{:10.4f}\".format(errBr))\n",
    "print('sig_R_core', ', ', 1.0, ', ', ' fixed') \n",
    "print('q0', ', ', \"{:10.4f}\".format(q0r), ', ', \"{:10.4f}\".format(errq0r))\n",
    "print('gamma', ', ', \"{:10.4f}\".format(gammar), ', ', \"{:10.4f}\".format(errgammar))\n",
    "print('eta', ', ', \"{:10.4f}\".format(etar), ', ', \"{:10.4f}\".format(erretar))\n",
    "print('c', ', ', \"{:10.4f}\".format(cr), ', ', \"{:10.4f}\".format(errcr))\n",
    "print('sig_a', ', ', 0.001, ', ', 'fixed')\n",
    "print('Rg', ', ', \"{:10.4f}\".format(Rgr), ', ', \"{:10.4f}\".format(errRgr))\n",
    "print('sc1', ', ', \"{:10.4f}\".format(sc1r), ', ', \"{:10.4f}\".format(errsc1r))\n",
    "print('sc2', ', ', \"{:10.4f}\".format(sc2r), ', ', \"{:10.4f}\".format(errsc2r))\n",
    "print('back', ', ', \"{:10.4f}\".format(backr), ', ', \"{:10.4f}\".format(errbackr))\n",
    "print('******************************************')\n",
    "\n",
    "\n",
    "#recording the data...\n",
    "\n",
    "\n",
    "R_corer_result = ['R_corer', R_corer, errR_corer]\n",
    "Tr_result = ['Tr', Tr, errTr]\n",
    "Br_result = ['Br', Br, errBr]\n",
    "sig_R_corer_result = ['sig_R_corer', 1.0, 0.0]\n",
    "q0r_result = ['q0r', q0r, errq0r]\n",
    "gammar_result = ['gammar', gammar, errgammar]\n",
    "etar_result = ['etar', etar, erretar]\n",
    "cr_result = ['cr', cr, errcr]\n",
    "sig_ar_result = ['sig_ar', 0.001, 0.0]\n",
    "Rgr_result = ['Rgr', Rgr, errRgr]\n",
    "sc1r_result = ['sc1r', sc1r, errsc1r]\n",
    "sc2r_result = ['sc2r', sc2r, errsc2r]\n",
    "backr_result = ['backr', backr, errbackr]\n",
    "reduced_squared_chi_result = ['chi_r^2', reduced_chi_squared, 0.0]\n",
    "\n",
    "name_output_plus_extension = source_directory_results + file_name + '.txt'\n",
    "\n",
    "np.savetxt(name_output_plus_extension, (R_corer_result, Tr_result, Br_result, sig_R_corer_result, \\\n",
    "                                       q0r_result, gammar_result, etar_result, cr_result, sig_ar_result, \\\n",
    "                                       Rgr_result, sc1r_result, sc2r_result, backr_result, reduced_squared_chi_result), fmt=\"%s\", delimiter='  ')\n",
    "\n",
    "\n",
    "#recording fit and p(r) function\n",
    "#the command np.c_[x,y,z,...] take the arrays x,y,z,... and save them vertically. So in the save file one\n",
    "#will find columns instead lines\n",
    "\n",
    "np.savetxt(source_directory_results + file_name + '.fit', np.c_[q_selected, model2222(q_selected, *popt)])\n",
    "                                                                \n",
    "#form factor\n",
    "PQ = 100000*P_cyl_cs_approx_smear_poly_values2(q_selected, R_corer, Tr, Lp, Br, sig_outp, sig_corep, 1.0)\n",
    "np.savetxt(source_directory_results + file_name + '.pq', np.c_[q_selected, PQ])\n",
    "#structure factor\n",
    "SQ = Structure_Factor(q_selected, *popt)\n",
    "np.savetxt(source_directory_results + file_name + '.sq', np.c_[q_selected, SQ])"
   ]
  },
  {
   "cell_type": "code",
   "execution_count": null,
   "metadata": {},
   "outputs": [],
   "source": []
  }
 ],
 "metadata": {
  "kernelspec": {
   "display_name": "Python 3",
   "language": "python",
   "name": "python3"
  },
  "language_info": {
   "codemirror_mode": {
    "name": "ipython",
    "version": 3
   },
   "file_extension": ".py",
   "mimetype": "text/x-python",
   "name": "python",
   "nbconvert_exporter": "python",
   "pygments_lexer": "ipython3",
   "version": "3.7.4"
  }
 },
 "nbformat": 4,
 "nbformat_minor": 2
}
